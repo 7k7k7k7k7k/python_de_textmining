{
  "nbformat": 4,
  "nbformat_minor": 0,
  "metadata": {
    "colab": {
      "provenance": [],
      "authorship_tag": "ABX9TyPNFrL+W6JF9W7YDZXE1c8X",
      "include_colab_link": true
    },
    "kernelspec": {
      "name": "python3",
      "display_name": "Python 3"
    },
    "language_info": {
      "name": "python"
    }
  },
  "cells": [
    {
      "cell_type": "markdown",
      "metadata": {
        "id": "view-in-github",
        "colab_type": "text"
      },
      "source": [
        "<a href=\"https://colab.research.google.com/github/7k7k7k7k7k/python_de_textmining/blob/main/%E7%BB%83%E4%B9%A0.ipynb\" target=\"_parent\"><img src=\"https://colab.research.google.com/assets/colab-badge.svg\" alt=\"Open In Colab\"/></a>"
      ]
    },
    {
      "cell_type": "code",
      "execution_count": 1,
      "metadata": {
        "colab": {
          "base_uri": "https://localhost:8080/"
        },
        "id": "e89nEpHGxqRh",
        "outputId": "2a3c3e4f-ff84-4cd7-d053-135737c4ed56"
      },
      "outputs": [
        {
          "output_type": "stream",
          "name": "stdout",
          "text": [
            "5.3\n"
          ]
        }
      ],
      "source": [
        "number1=1.5  #简单的加法运算\n",
        "number2=3.8\n",
        "\n",
        "sum=number1+number2\n",
        "\n",
        "print(sum)"
      ]
    },
    {
      "cell_type": "code",
      "source": [
        "print(f\"{number1}+{number2}={sum}\")"
      ],
      "metadata": {
        "colab": {
          "base_uri": "https://localhost:8080/"
        },
        "id": "53K1r3CBx91l",
        "outputId": "b0b20145-a3cb-4f28-8390-1af100cee9ad"
      },
      "execution_count": 2,
      "outputs": [
        {
          "output_type": "stream",
          "name": "stdout",
          "text": [
            "1.5+3.8=5.3\n"
          ]
        }
      ]
    },
    {
      "cell_type": "code",
      "source": [
        "#如何求出某个数字的阶乘\n",
        "def get_jiecheng(number):\n",
        "    result = 1\n",
        "    while number >0:\n",
        "        result *= number\n",
        "        number -= 1\n",
        "    return result\n",
        "\n",
        "print(\"jiecheng6=\",get_jiecheng(6))  #打印并且计算出6的阶乘\n",
        "print(\"jiecheng3=\",get_jiecheng(3))#打印并且计算出3的阶乘\n",
        "print(\"jiecheng100=\",get_jiecheng(100)) #打印并且计算出100的阶乘\n"
      ],
      "metadata": {
        "colab": {
          "base_uri": "https://localhost:8080/"
        },
        "id": "8T-EsMDjySij",
        "outputId": "0b9ecc4d-5ada-47ef-809d-eb783154516b"
      },
      "execution_count": 3,
      "outputs": [
        {
          "output_type": "stream",
          "name": "stdout",
          "text": [
            "jiecheng6= 720\n",
            "jiecheng3= 6\n",
            "jiecheng100= 93326215443944152681699238856266700490715968264381621468592963895217599993229915608941463976156518286253697920827223758251185210916864000000000000000000000000\n"
          ]
        }
      ]
    },
    {
      "cell_type": "code",
      "source": [
        "#如何使用python求出圆的面积\n",
        "import math\n",
        "print(math.pi)\n",
        "def compute_area_of_circle(r):\n",
        "    return round(math.pi*r*r,2) #round函数可以让目标保留小数点后面两位小数\n",
        "\n",
        "print(\"area of 2 is =\",compute_area_of_circle(2))  #打印并且计算出半径为2的圆形面积\n",
        "print(\"area of 3.114 is=\",compute_area_of_circle(3.114))#打印并且计算出3.114的圆心面积\n",
        "print(\"area of 67 is =\",compute_area_of_circle(67)) #打印并且计算出2的圆心面积\n"
      ],
      "metadata": {
        "colab": {
          "base_uri": "https://localhost:8080/"
        },
        "id": "catp-_JAzU2c",
        "outputId": "03adcf6c-f481-4433-cf45-12ec211b81bc"
      },
      "execution_count": 8,
      "outputs": [
        {
          "output_type": "stream",
          "name": "stdout",
          "text": [
            "3.141592653589793\n",
            "area of 2 is = 12.57\n",
            "area of 3.114 is= 30.46\n",
            "area of 67 is = 14102.61\n"
          ]
        }
      ]
    },
    {
      "cell_type": "code",
      "source": [
        "#打印区间内全部素数\n",
        "\n",
        "def is_prime(number):\n",
        "    if number in (1,2):\n",
        "        return True\n",
        "    for idx in range (2,number):\n",
        "        if number % idx == 0:\n",
        "            return False\n",
        "    return True\n",
        "def print_primes(begin,end):\n",
        "    for number in range(begin,end +1): #由于是在python中，计数是从零开始的，使用要在这里加1\n",
        "        if is_prime(number):\n",
        "            print(f\"{number}is a prime\")\n",
        "\n",
        "\n",
        "\n",
        "\n",
        "\n",
        "begin = 1\n",
        "end =100\n",
        "print_primes(begin,end)"
      ],
      "metadata": {
        "id": "PQqDuJdwz2Mr"
      },
      "execution_count": null,
      "outputs": []
    },
    {
      "cell_type": "code",
      "source": [
        "#求从0到n的数字的平方和\n",
        "def sum_of_square(n):  #使用写一个函数来实现目标\n",
        "    result = 2\n",
        "    for number in range (1,n+1):\n",
        "        result += number * number\n",
        "    return result\n",
        "  \n",
        "\n",
        "\n",
        "print(\"sum of square 8:\",sum_of_square(8))\n",
        "print(\"sum of square 10:\",sum_of_square(10))\n",
        "print(\"sum of square 22:\",sum_of_square(22))"
      ],
      "metadata": {
        "colab": {
          "base_uri": "https://localhost:8080/"
        },
        "id": "g8D701vc2VmQ",
        "outputId": "31ce7e63-7847-40af-f77e-18427e513a6c"
      },
      "execution_count": 19,
      "outputs": [
        {
          "output_type": "stream",
          "name": "stdout",
          "text": [
            "sum of square 8: 206\n",
            "sum of square 10: 387\n",
            "sum of square 22: 3797\n"
          ]
        }
      ]
    },
    {
      "cell_type": "code",
      "source": [],
      "metadata": {
        "id": "tZXfbw1o3xXq"
      },
      "execution_count": null,
      "outputs": []
    }
  ]
}