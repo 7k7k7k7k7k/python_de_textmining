{
 "cells": [
  {
   "cell_type": "markdown",
   "metadata": {},
   "source": [
    "# Python 速習\n",
    "\n",
    "（以下、本書に記載された文章の一部を抜粋しています）\n",
    "\n",
    "小規模な（例えば100件程度の）データを整理して保存する程度の目的であれば、マイクロソフトの Excel に代表される表計算ソフトで十分に間に合うでしょう。しかしながら、データサイズが大きくなり、ワークシートの行数や列数が増えてくると、「マウス操作」を前提としたソフトウェアでの作業は非常に効率が悪くなります。また、マウス操作による作業は、後日、手順の再現に戸惑うことも多くなります。さらに、Excel などに備わっているデータ分析機能やグラフィックス作成機能は非常に貧弱です。\n",
    "\n",
    "そこで表計算ソフト以外のツールの利用を推奨します。データサイエンスやAIが広く活用されている現在、データ解析ツールには多数の選択肢があります。まず、有償のソフトウェアとしては、SPSS や SAS, MATLAB が有名です。一方、無償で自身のコンピュータにインストールして使えるツールとして、プログラミング言語である R や Python が世界的に普及しています。実際のところ、データサイエンスの分野では、R と Python が実質的なスタンダードとなっており、インターネット上にも多数の情報が溢れています。ぜひとも自身で検索してみてください。また R あるいは Python は、Google Colaboratory や Mirosoft AzureML, Amazon SageMaker Studio Lab などのクラウド環境で利用することもできます。クラウド環境で利用できるという意味は、パソコンに何かを追加でインストールする必要がなく、デフォルトで導入されているブラウザのウィンドウ内でコードを書いて実行できるという意味です。\n",
    "\n",
    "\n",
    "本書では、Python というプログラミング言語を使って日本語テキストをデータとして処理し、分析する方法を学びます。そこで、最初に Python およびデータサイエンス周りのパッケージ（拡張機能）の使い方を紹介します。\n",
    "\n",
    "\n",
    "## Python\n",
    "\n",
    "\n",
    "Python の導入には複数の方法があり、利用している OS （Windows か Mac か、あるいは Linux か）や、利用目的によっても異なってきますが、本書ではデータ分析を実施するツールとして Python を利用します。Python の言語仕様やコード設計について詳細を解説することはいたしませんが、データ分析を実行するのに必要な技術については詳しく説明します。\n",
    "\n",
    "\n",
    "なお、Python のライブラリにはバージョンごとに相性の問題があり、今後 Python ないしライブラリのアップデートされることによって、本書の掲載どおりの出力にならない、あるいは掲載コードが動かないということがあるかもしれません。その場合、筆者が気がついた範囲で本書のサポートサイトに変更点に関する情報を記載する予定です。\n",
    "一方で、Python には仮想環境という考え方があります。これはデフォルトのPython実行環境からは分離されたPython環境を用意し、デフォルトとは異なるバージョンのライブラリを構築するものです。\n",
    "\n",
    "本書と同じ出力を得たいという読者は venv などを使って、ライブラリのバージョンを固定した仮想環境を整備されるとよいでしょう（ただし仮想環境を用意しなければ操作できなということではありません）。\n",
    "以下は、仮想環境を作成する例です。この命令は、コマンドプロンプト（ターミナル）で行います。\n",
    "\n",
    "\n",
    "```\n",
    "$ pytnon3 -m venv working\n",
    "$ cd working\n",
    "$ source bin/activate\n",
    "(working)$ pip install -f requirements.txt\n",
    "(working)$ jupyter-notebook &\n",
    "```\n",
    "\n",
    "なお初めて `pip` コマンドを実行した際には以下のようなエラーが生じることもあります。\n",
    "\n",
    "\n",
    "```\n",
    "WARNING: You are using pip version **.*.*, however version **.*.* is available.\n",
    "You should consider upgrading via the 'pip install --upgrade pip' command.\n",
    "```\n",
    "\n",
    "この場合はアップデートしておきます。\n"
   ]
  },
  {
   "cell_type": "code",
   "execution_count": null,
   "metadata": {},
   "outputs": [],
   "source": [
    "!pip install -U pip"
   ]
  },
  {
   "cell_type": "markdown",
   "metadata": {},
   "source": [
    "\n",
    "## Pythonの導入\n",
    "### Google Colaboratory\n",
    "\n",
    "もっとも簡単な方法は、自身のコンピュータに Python をインストールせずに、Google の Colaboratory という WEB サービスを利用することです。[^Colab]\n",
    "\n",
    "[^Colab]: https://colab.research.google.com\n",
    "\n",
    "\n"
   ]
  },
  {
   "cell_type": "markdown",
   "metadata": {},
   "source": [
    "### MacOS/Windows\n",
    "\n",
    "MacOS にせよ Windows によせ、データサイエンスでの利用を主な目的として Python を導入するのであれば、**Anaconda** [^Anaconda] を使うのが一番簡単でしょう。\n",
    "\n",
    "\n",
    "それでは Anaconda をインストールしましょう。まず Anaconda のトップページから Products の Individual Editon をクリックし、自身の OS に合わせてインストーラーをダウンロードします。\n",
    "基本的にインストーラーをダブルクリックするだけで Python と関連ライブラリがインストールされます。ただし注意点として、Windows の場合、途中でインストールタイプを選択する必要がありますが、ここでは All Users を選ぶ方がよいでしょう。Just Me (recommended) を選ぶと、利用しているパソコンの設定によっては（たとえば、Windows でユーザー名として日本語を使っていると）問題が生じる可能性があります。逆に MacOS では「個人環境向けにインストール」を選んだ方がよいです（MacOS にすでに Python2 が組み込まれているので、新規に追加する Python3 とシステム設定が衝突する恐れがあるからです）。さらに、Windowsでは、「Add Anaconda to the system PATH environment variable」にはチェックを入れず、その下の、「Register Anaconda as the system Python」にチェックが入っていることを確認してください。ただし、繰り返しになりますが、Anaconda のサイト構成やインストール方法は、今後変更される可能性があります。インストールを試みる前に、自身でインターネットを検索などして事前に情報を収集することをお勧めします。\n",
    "\n",
    "\n",
    "\n",
    "## Jupyterの起動\n",
    "\n",
    "Window ではファイルメニューで [Anaconda]->[jupyter notebook] を選択すると、自動的にブラウザが起動します。場合によってはコマンドプロンプトという黒い画面上で、表示された URL (http::/localhost あるいは http:127.0.0.1 で始まるアドレス)をブラウザを起動して指定するよう求められることがあるかもしれません。\n",
    "\n",
    "Macでは「アプリケーション」フォルダに Anaconda-Navigator がインストールされていますので、これを起動し、Jupyter を launch するボタンを押します。\n",
    "\n",
    "\n",
    "\n",
    "ブラウザ画面の右メニュー [New] から [Python3]を選択すると、新しくタブが開きます。\n",
    "\n",
    "まずは簡単な Python のコードを入力し、実行してみましょう。`import sys` と入力し、改行してまた `sys.version` と入力します。ここで、Shift キーを押しながら Enter を押すと、入力欄（以下、セルと表現します）下に実行結果が表示されるはずです。\n",
    "\n",
    "\n",
    "\n",
    "以下、Jupyter を利用する上での注意点を箇条書きでまとめます。\n",
    "\n",
    "- 入力可能な領域は「セル」と呼ばれる\n",
    "- Enterを押すと入力モードに戻る\n",
    "- セルでは「Code」モードと「Markdown」モードの違いに気をつける\n",
    "- 説明など地の文はセルで（Escキーをいったん押してから） M キーを押して Markdownモードに変更\n",
    "- Python のコードを入力する場合は M キーを押してCodeモードに変更\n",
    "- Shift キーを押しながら Enter を押すと、そのセルの内容は確定される（コードは実行され結果が下に出力される）\n",
    "- Code モードで入力途中に Tab を押すと、関数名などの入力を補助する機能が利用できる\n",
    "\n",
    "\n",
    "\n",
    "\n",
    "\n",
    "## 四則演算と変数、代入\n",
    "\n"
   ]
  },
  {
   "cell_type": "code",
   "execution_count": 1,
   "metadata": {},
   "outputs": [
    {
     "data": {
      "text/plain": [
       "6"
      ]
     },
     "execution_count": 1,
     "metadata": {},
     "output_type": "execute_result"
    }
   ],
   "source": [
    "1 + 2 + 3 "
   ]
  },
  {
   "cell_type": "markdown",
   "metadata": {},
   "source": [
    "`[out]` という表示に続いて、計算結果が出力されているでしょう。加減乗除 は Excel と同じ記号 (`+-*/`) を使って書き表します。なお、上記では数値と`+`の間に半角スペースを挟んでいますが、`1+2+3` としても同じです。ただ、スペースを挟んだほうが見やすいとはいえます。\n",
    "\n",
    "さて、プログラミング言語を覚える上で最初の難関となるのが**変数**(variable)という概念でしょう。"
   ]
  },
  {
   "cell_type": "code",
   "execution_count": 2,
   "metadata": {},
   "outputs": [
    {
     "name": "stdout",
     "output_type": "stream",
     "text": [
      "6\n",
      "Hello World\n"
     ]
    }
   ],
   "source": [
    "x = 1 + 2 + 3\n",
    "print(x)\n",
    "y = 'Hello World'\n",
    "print(y)"
   ]
  },
  {
   "cell_type": "markdown",
   "metadata": {},
   "source": [
    "\n",
    "\n",
    "ここで `print()` の少し高度な機能を紹介しましょう。`print()` の役割は画面への文字出力ですが、出力のスタイルを調整することができます。以下に例を示します。\n",
    "\n",
    "\n"
   ]
  },
  {
   "cell_type": "code",
   "execution_count": 4,
   "metadata": {},
   "outputs": [
    {
     "name": "stdout",
     "output_type": "stream",
     "text": [
      "% 演算子\n",
      "pi = 3.140\n",
      "formatを使った例\n",
      "pi = 3.14\n",
      "f 文字列の利用\n",
      "ｆ文字列に変数をブラケットで囲んで指定\n",
      "私は22歳です。\n",
      "3桁ごとにカンマを挿入\n",
      "1,234,567,890\n",
      "小数点以下の桁数表示\n",
      "小数点2位まで\n",
      "pi = 3.14\n",
      "指定された桁数だけゼロを追加\n",
      "pi =  : 3.14100\n"
     ]
    }
   ],
   "source": [
    "print('% 演算子')\n",
    "pi = 3.14\n",
    "print('pi = %.3f' % pi)\n",
    " \n",
    "print('formatを使った例')\n",
    "print('{0} = {1}'.format('pi', pi))\n",
    "\n",
    "print('f 文字列の利用')\n",
    "age = 22\n",
    "\n",
    "print('ｆ文字列に変数をブラケットで囲んで指定')\n",
    "print(f'私は{age}歳です。')\n",
    "\n",
    "num = 1234567890\n",
    "print('3桁ごとにカンマを挿入')\n",
    "print(f'{num:,}')\n",
    "\n",
    "print('小数点以下の桁数表示')\n",
    "pi = 3.141\n",
    "\n",
    "print('小数点2位まで')\n",
    "print(f'pi = {pi:.2f}')\n",
    "#\n",
    "print('指定された桁数だけゼロを追加')\n",
    "print(f'pi =  : {pi:.5f}')"
   ]
  },
  {
   "cell_type": "markdown",
   "metadata": {},
   "source": [
    "\n",
    "上記では **%演算子**といわれる機能や `format` 関数、あるいは**ｆ文字列**という機能を使って出力を調整しています。詳しくは Python の公式マニュアル(https://docs.python.org/ja/3/)などで確認してください。\n"
   ]
  },
  {
   "cell_type": "code",
   "execution_count": 6,
   "metadata": {},
   "outputs": [
    {
     "ename": "TypeError",
     "evalue": "can only concatenate str (not \"int\") to str",
     "output_type": "error",
     "traceback": [
      "\u001b[0;31m---------------------------------------------------------------------------\u001b[0m",
      "\u001b[0;31mTypeError\u001b[0m                                 Traceback (most recent call last)",
      "Input \u001b[0;32mIn [6]\u001b[0m, in \u001b[0;36m<cell line: 3>\u001b[0;34m()\u001b[0m\n\u001b[1;32m      1\u001b[0m \u001b[38;5;66;03m##%%script false --no-raise-error\u001b[39;00m\n\u001b[1;32m      2\u001b[0m \u001b[38;5;66;03m## 文字と数値の計算なので本来はエラーとなる\u001b[39;00m\n\u001b[0;32m----> 3\u001b[0m \u001b[38;5;28mprint\u001b[39m(\u001b[38;5;124;43m'\u001b[39;49m\u001b[38;5;124;43mあ\u001b[39;49m\u001b[38;5;124;43m'\u001b[39;49m\u001b[43m \u001b[49m\u001b[38;5;241;43m+\u001b[39;49m\u001b[43m \u001b[49m\u001b[38;5;241;43m1\u001b[39;49m)\n",
      "\u001b[0;31mTypeError\u001b[0m: can only concatenate str (not \"int\") to str"
     ]
    }
   ],
   "source": [
    "%%script false --no-raise-error\n",
    "## 文字と数値の計算なので本来はエラーとなる\n",
    "print('あ' + 1)\n",
    "## あえて実行すると以下のようなエラーとなる"
   ]
  },
  {
   "cell_type": "markdown",
   "metadata": {},
   "source": [
    "## 関数を定義する\n",
    "\n",
    "Python には多くの関数が用意されていますが、自分自身で作成（定義）することもできます。たとえば、入力された数値に、その 10 倍の値、さらに 100 倍の値を加算した結果を返す関数を定義してみましょう。\n"
   ]
  },
  {
   "cell_type": "code",
   "execution_count": 7,
   "metadata": {},
   "outputs": [
    {
     "name": "stdout",
     "output_type": "stream",
     "text": [
      "関数を引数として 3 を与えて実行する\n"
     ]
    },
    {
     "data": {
      "text/plain": [
       "333"
      ]
     },
     "execution_count": 7,
     "metadata": {},
     "output_type": "execute_result"
    }
   ],
   "source": [
    "def my_func(x):\n",
    "    tmp = x + 10 * x + 100 * x\n",
    "    return(tmp)\n",
    "print('関数を引数として 3 を与えて実行する')\n",
    "my_func(3)"
   ]
  },
  {
   "cell_type": "markdown",
   "metadata": {},
   "source": [
    "\n",
    "\n",
    "## 条件分岐\n",
    "\n",
    "\n",
    "上で作成した `my_func()` に、処理結果が偶数であれば偶数、奇数であれば奇数と表示する機能を加えてみましょう。 \n"
   ]
  },
  {
   "cell_type": "code",
   "execution_count": 8,
   "metadata": {},
   "outputs": [
    {
     "name": "stdout",
     "output_type": "stream",
     "text": [
      "引数に 3 を与えて実行\n",
      "奇数\n"
     ]
    },
    {
     "data": {
      "text/plain": [
       "333"
      ]
     },
     "execution_count": 8,
     "metadata": {},
     "output_type": "execute_result"
    }
   ],
   "source": [
    "def my_func(x=10):\n",
    "    tmp = x + 10 * x + 100 * x\n",
    "    if tmp % 2 == 0:\n",
    "        print('偶数')\n",
    "    else:\n",
    "        print('奇数')\n",
    "    return(tmp)\n",
    "\n",
    "print('引数に 3 を与えて実行')\n",
    "my_func(3)"
   ]
  },
  {
   "cell_type": "code",
   "execution_count": 9,
   "metadata": {},
   "outputs": [
    {
     "name": "stdout",
     "output_type": "stream",
     "text": [
      "関数を引数なしで実行する\n",
      "偶数\n"
     ]
    },
    {
     "data": {
      "text/plain": [
       "1110"
      ]
     },
     "execution_count": 9,
     "metadata": {},
     "output_type": "execute_result"
    }
   ],
   "source": [
    "def my_func(x=10):\n",
    "    tmp = x + 10 * x + 100 * x\n",
    "    if tmp % 2 == 0:\n",
    "        print('偶数')\n",
    "    else:\n",
    "        print('奇数')\n",
    "    return(tmp)\n",
    "\n",
    "print('関数を引数なしで実行する')\n",
    "my_func()"
   ]
  },
  {
   "cell_type": "markdown",
   "metadata": {},
   "source": [
    "## 繰り返し処理\n",
    "\n",
    "ある処理を繰り返し行いたい場合があります。たとえば、1 から 10 までを足し算する処理を考えてみましょう。\n"
   ]
  },
  {
   "cell_type": "code",
   "execution_count": 10,
   "metadata": {},
   "outputs": [
    {
     "data": {
      "text/plain": [
       "55"
      ]
     },
     "execution_count": 10,
     "metadata": {},
     "output_type": "execute_result"
    }
   ],
   "source": [
    "x = 0\n",
    "for i in range(1, 11):\n",
    "    x = x + i\n",
    "x"
   ]
  },
  {
   "cell_type": "code",
   "execution_count": 11,
   "metadata": {},
   "outputs": [
    {
     "data": {
      "text/plain": [
       "range(1, 11)"
      ]
     },
     "execution_count": 11,
     "metadata": {},
     "output_type": "execute_result"
    }
   ],
   "source": [
    "range(1, 11)"
   ]
  },
  {
   "cell_type": "markdown",
   "metadata": {},
   "source": [
    "## リストとスライス\n",
    "ここまで変数には1つの値（1や3.14）を代入しました。一方、複数の値を1つの変数に紐付けることもできます。以下のようにします。\n"
   ]
  },
  {
   "cell_type": "code",
   "execution_count": 12,
   "metadata": {},
   "outputs": [
    {
     "data": {
      "text/plain": [
       "[1, 2, 3, 4]"
      ]
     },
     "execution_count": 12,
     "metadata": {},
     "output_type": "execute_result"
    }
   ],
   "source": [
    "x = [1, 2, 3, 4]\n",
    "x "
   ]
  },
  {
   "cell_type": "code",
   "execution_count": 13,
   "metadata": {},
   "outputs": [
    {
     "data": {
      "text/plain": [
       "1"
      ]
     },
     "execution_count": 13,
     "metadata": {},
     "output_type": "execute_result"
    }
   ],
   "source": [
    "x [0]"
   ]
  },
  {
   "cell_type": "markdown",
   "metadata": {},
   "source": [
    "\n",
    "\n",
    "| 0 番  | 1 番  | 2 番  | 3 番  | 4 番  |\n",
    "|-------|-------|-------|-------|-------|\n",
    "| 1     | 2     | 3     | 4     | 5     |\n",
    "| -5 番 | -4 番 | -3 番 | -2 番 | -1 番 |\n",
    "\n",
    "\n",
    "\n",
    "以下、実際にスライスを使った例を示します。"
   ]
  },
  {
   "cell_type": "code",
   "execution_count": 14,
   "metadata": {},
   "outputs": [
    {
     "name": "stdout",
     "output_type": "stream",
     "text": [
      "2つ目（1番）から3つ目（3番）まで\n",
      "[2, 3, 4]\n",
      "2つ目（3番）まで\n",
      "[1, 2, 3]\n",
      "後ろから3つ目以降\n",
      "[3, 4, 5]\n",
      "逆順に出力\n",
      "[5, 4, 3, 2, 1]\n"
     ]
    }
   ],
   "source": [
    "x = [1, 2, 3, 4, 5]\n",
    "print('2つ目（1番）から3つ目（3番）まで')\n",
    "print(x[1:4])\n",
    "\n",
    "print('2つ目（3番）まで')\n",
    "print(x[ :3])\n",
    "\n",
    "print('後ろから3つ目以降')\n",
    "print(x[-3: ])\n",
    "\n",
    "print('逆順に出力')\n",
    "print(x[ : : -1])"
   ]
  },
  {
   "cell_type": "markdown",
   "metadata": {},
   "source": [
    "\n",
    "なお、Pythonではコード中に`#` を挿入すると、その右から改行まではコメントとみなされます。自分が書いたコードの意味や目的をメモする際にコメントを使うと便利です。\n",
    "\n",
    "## タプル\n",
    "\n"
   ]
  },
  {
   "cell_type": "code",
   "execution_count": 15,
   "metadata": {},
   "outputs": [
    {
     "name": "stdout",
     "output_type": "stream",
     "text": [
      "リストは要素を変更できる\n",
      "[0, 1, 34]\n",
      "タプルは要素を変更できないのでエラーとなる\n"
     ]
    },
    {
     "ename": "TypeError",
     "evalue": "'tuple' object does not support item assignment",
     "output_type": "error",
     "traceback": [
      "\u001b[0;31m---------------------------------------------------------------------------\u001b[0m",
      "\u001b[0;31mTypeError\u001b[0m                                 Traceback (most recent call last)",
      "Input \u001b[0;32mIn [15]\u001b[0m, in \u001b[0;36m<cell line: 9>\u001b[0;34m()\u001b[0m\n\u001b[1;32m      6\u001b[0m y \u001b[38;5;241m=\u001b[39m (\u001b[38;5;241m0\u001b[39m, \u001b[38;5;241m1\u001b[39m, \u001b[38;5;241m2\u001b[39m)\n\u001b[1;32m      8\u001b[0m \u001b[38;5;28mprint\u001b[39m(\u001b[38;5;124m'\u001b[39m\u001b[38;5;124mタプルは要素を変更できないのでエラーとなる\u001b[39m\u001b[38;5;124m'\u001b[39m)\n\u001b[0;32m----> 9\u001b[0m \u001b[43my\u001b[49m\u001b[43m[\u001b[49m\u001b[38;5;241;43m2\u001b[39;49m\u001b[43m]\u001b[49m \u001b[38;5;241m=\u001b[39m \u001b[38;5;241m45\u001b[39m  \n\u001b[1;32m     10\u001b[0m \u001b[38;5;28mprint\u001b[39m(y)\n",
      "\u001b[0;31mTypeError\u001b[0m: 'tuple' object does not support item assignment"
     ]
    }
   ],
   "source": [
    "x = [0, 1, 2]\n",
    "print('リストは要素を変更できる')\n",
    "x[2] = 34\n",
    "print(x)\n",
    "## タプル\n",
    "y = (0, 1, 2)\n",
    "\n",
    "print('タプルは要素を変更できないのでエラーとなる')\n",
    "y[2] = 45  \n",
    "print(y)"
   ]
  },
  {
   "cell_type": "markdown",
   "metadata": {},
   "source": [
    "## 辞書\n",
    "\n"
   ]
  },
  {
   "cell_type": "code",
   "execution_count": 16,
   "metadata": {},
   "outputs": [
    {
     "name": "stdout",
     "output_type": "stream",
     "text": [
      "22\n"
     ]
    }
   ],
   "source": [
    "ids = {'山田':18, '佐藤':20, '加藤':22, '田中':18}\n",
    "print(ids['加藤'])"
   ]
  },
  {
   "cell_type": "code",
   "execution_count": 17,
   "metadata": {},
   "outputs": [
    {
     "name": "stdout",
     "output_type": "stream",
     "text": [
      "キーのリスト\n",
      "dict_keys(['山田', '佐藤', '加藤', '田中'])\n",
      "値のリスト\n",
      "dict_values([18, 20, 22, 18])\n",
      "キーと値のペアをリストで表示\n",
      "dict_items([('山田', 18), ('佐藤', 20), ('加藤', 22), ('田中', 18)])\n"
     ]
    }
   ],
   "source": [
    "print('キーのリスト')\n",
    "print(ids.keys())\n",
    "print('値のリスト')\n",
    "print(ids.values())\n",
    "print('キーと値のペアをリストで表示')\n",
    "print(ids.items())"
   ]
  },
  {
   "cell_type": "code",
   "execution_count": 18,
   "metadata": {},
   "outputs": [
    {
     "name": "stdout",
     "output_type": "stream",
     "text": [
      "キー = 山田、値 ＝18\n",
      "キー = 佐藤、値 ＝20\n",
      "キー = 加藤、値 ＝22\n",
      "キー = 田中、値 ＝18\n",
      "----- line break ----\n",
      "キー = 山田：値 ＝18\n",
      "キー = 佐藤：値 ＝20\n",
      "キー = 加藤：値 ＝22\n",
      "キー = 田中：値 ＝18\n"
     ]
    }
   ],
   "source": [
    "## キーを取り出して、値を指定する\n",
    "for key in ids.keys():\n",
    "    print(\"キー = \" + key + \"、値 ＝\" + str(ids[key]))\n",
    "\n",
    "print(\"----- line break ----\")\n",
    "\n",
    "## キーと値の両方を一度に取り出す\n",
    "for key, value in ids.items():\n",
    "    print(\"キー = \" + key + \"：値 ＝\" + str(value))"
   ]
  },
  {
   "cell_type": "code",
   "execution_count": 19,
   "metadata": {},
   "outputs": [
    {
     "name": "stdout",
     "output_type": "stream",
     "text": [
      "<class 'int'>\n",
      "<class 'float'>\n"
     ]
    }
   ],
   "source": [
    "print(type(1))\n",
    "print(type(3.14))"
   ]
  },
  {
   "cell_type": "markdown",
   "metadata": {},
   "source": [
    "同じ数値でも `int` （整数）と`float`の違いがあることが分かります。1は整数(integer)、3.14は浮動小数点数(floating point number) というクラス（「類型」ぐらいの意味）に属します。浮動小数点数は、数学でいう実数を表す方法の1つです。コンピューターの内部で数は2進法で処理されますが、2進法とは0と1のみを使う表現方法で、整数の1を2進法で表すと1ですが、2は10、3は11、4は100となります（実は文字も結局は2進法で処理されています）。コンピュータ内部で実数を表示する方法が浮動小数点です。詳細は日本語ウィキペディアの浮動小数点数 [^float] などの記述を参照してください。\n",
    "\n",
    "[^float]: <https://ja.wikipedia.org/wiki/浮動小数点数>\n",
    "\n",
    "\n",
    "一方、文字列のクラスは以下のように表示されます。ちなみに、3.14 は数値ですが、シングルコーテーションで囲った'3.14' は文字列であり、この2つは明確に区別される必要があります。"
   ]
  },
  {
   "cell_type": "code",
   "execution_count": 20,
   "metadata": {},
   "outputs": [
    {
     "name": "stdout",
     "output_type": "stream",
     "text": [
      "<class 'float'>\n",
      "<class 'str'>\n"
     ]
    }
   ],
   "source": [
    "print(type(3.14))\n",
    "print(type('3.14'))"
   ]
  },
  {
   "cell_type": "markdown",
   "metadata": {},
   "source": [
    "\n",
    "## 正規表現\n",
    "\n",
    "**正規表現** (regular expression) とは、簡単にいえば、文書から特定の文字列を検索したり、あるいは置換する機能のことです。\n",
    "\n",
    "\n"
   ]
  },
  {
   "cell_type": "code",
   "execution_count": 21,
   "metadata": {},
   "outputs": [
    {
     "name": "stdout",
     "output_type": "stream",
     "text": [
      "0000年00月00日\n"
     ]
    }
   ],
   "source": [
    "import re\n",
    "birth = '1999年10月23日'\n",
    "res = re.sub('\\d', '0', birth)\n",
    "print(res)"
   ]
  },
  {
   "cell_type": "code",
   "execution_count": 22,
   "metadata": {},
   "outputs": [
    {
     "name": "stdout",
     "output_type": "stream",
     "text": [
      "['1999年1月23日', '1999年1月23日', '1999年1月23日', '1999年1月23日']\n",
      "リストの要素ごとに適用\n",
      "['0000年0月00日', '0000年0月00日', '0000年0月00日', '0000年0月00日']\n"
     ]
    }
   ],
   "source": [
    "## 生年月日のリストを指定して一括変換\n",
    "days = ['1999年1月23日', '1999年1月23日', '1999年1月23日', '1999年1月23日']\n",
    "print(days)\n",
    "print('リストの要素ごとに適用')\n",
    "## リスト内包表記\n",
    "changed = [re.sub('\\d', '0', day) for day in days] \n",
    "print(changed)"
   ]
  },
  {
   "cell_type": "markdown",
   "metadata": {},
   "source": [
    "\n",
    "\n",
    "## リスト内包表記\n",
    "\n",
    "\n",
    "\n",
    "`['ABC', 'ABCD', 'ABCDE']` というリスト `ALPHA` が対象だとして、それぞれの文字列の'B' だけを小文字'b'にしたいとすれば、`[re.sub('B','b',i) for i in ALPHA]` と書きます。\n"
   ]
  },
  {
   "cell_type": "code",
   "execution_count": 23,
   "metadata": {},
   "outputs": [
    {
     "data": {
      "text/plain": [
       "['AbC', 'AbCD', 'AbCDE']"
      ]
     },
     "execution_count": 23,
     "metadata": {},
     "output_type": "execute_result"
    }
   ],
   "source": [
    "ALPHA = ['ABC', 'ABCD', 'ABCDE']\n",
    "[re.sub('B','b',i) for i in ALPHA]"
   ]
  },
  {
   "cell_type": "markdown",
   "metadata": {},
   "source": [
    "## イテレータとジェネレータ\n",
    "\n",
    "\n",
    "\n"
   ]
  },
  {
   "cell_type": "markdown",
   "metadata": {},
   "source": [
    "すでに `range()` については紹介しています。`range(5)` とすると、0,1,2,3,4 を返す関数です。ところが、以下のように実行してみても、5個の整数は表示されないのでした。\n"
   ]
  },
  {
   "cell_type": "code",
   "execution_count": 24,
   "metadata": {},
   "outputs": [
    {
     "data": {
      "text/plain": [
       "range(0, 5)"
      ]
     },
     "execution_count": 24,
     "metadata": {},
     "output_type": "execute_result"
    }
   ],
   "source": [
    "x = range(5)\n",
    "x"
   ]
  },
  {
   "cell_type": "code",
   "execution_count": 25,
   "metadata": {},
   "outputs": [
    {
     "name": "stdout",
     "output_type": "stream",
     "text": [
      "0\n",
      "1\n",
      "2\n",
      "3\n",
      "4\n"
     ]
    }
   ],
   "source": [
    "for i in x:\n",
    "    print(i)"
   ]
  },
  {
   "cell_type": "code",
   "execution_count": 26,
   "metadata": {},
   "outputs": [
    {
     "name": "stdout",
     "output_type": "stream",
     "text": [
      "指定された整数までのリストを生成\n",
      "generator1 = [0, 1, 2, 3, 4, 5, 6, 7, 8, 9]\n",
      "-----------------\n",
      "指定された整数までの数値を生成するジェネレータ\n",
      "generator2 = <generator object generator2 at 0x7f9ae4e951c0>\n"
     ]
    }
   ],
   "source": [
    "def generator1(n):\n",
    "    tmp = []\n",
    "    for i in range(n):\n",
    "        tmp.append(i)\n",
    "    return tmp\n",
    "\n",
    "print('指定された整数までのリストを生成')\n",
    "x1 = generator1(10)\n",
    "print(f'generator1 = {x1}')\n",
    "print('-----------------')\n",
    "def generator2(n):\n",
    "    for i in range(n):\n",
    "        yield i\n",
    "print('指定された整数までの数値を生成するジェネレータ')\n",
    "x2 = generator2(10)\n",
    "print(f'generator2 = {x2}')"
   ]
  },
  {
   "cell_type": "code",
   "execution_count": 27,
   "metadata": {},
   "outputs": [
    {
     "name": "stdout",
     "output_type": "stream",
     "text": [
      "0\n",
      "1\n",
      "2\n",
      "3\n",
      "4\n",
      "5\n",
      "6\n",
      "7\n",
      "8\n",
      "9\n"
     ]
    }
   ],
   "source": [
    "for i in x2:\n",
    "    print(i)"
   ]
  },
  {
   "cell_type": "markdown",
   "metadata": {},
   "source": [
    "\n",
    "\n",
    "\n",
    "## ライブラリ\n",
    "\n",
    "テキスト分析にPythonを使う強みは、データ分析周りのライブラリが多数揃っていることにあります。Pythonでは、特定の用途のために作成した関数をファイル（スクリプト）に保存して使い回すことが少なくありません。こうした関数などのセットをモジュールといいます。ある用途に特化したモジュールを複数作成し、専用のフォルダ（ディレクトリ）にまとめたものを**ライブラリ**といいます。\n",
    "\n",
    "データ分析関係では、以下のパッケージが広く使われています。\n",
    "\n",
    "- numpy\n",
    "- pandas\n",
    "- scikit-learn\n",
    "- scipy\n",
    "\n",
    "また、データを可視化するには以下のライブラリが使われます。\n",
    "\n",
    "- matplotlib\n",
    "- seaborn\n",
    "\n",
    "日本語テキストを解析できるライブラリも複数公開されています。\n",
    "\n",
    "- python-mecab\n",
    "- Janome\n",
    "- spaCy\n",
    "- GiNZA\n",
    "\n",
    "## テキスト分析の手順\n",
    "\n",
    "ここで、テキストをデータとして処理する流れについて事例を紹介しましょう。なお、この節ではまだ形態素解析器は使いません。\n",
    "\n",
    "青空文庫からファイルをダウンロードして、作品に関するメタ情報を削除する過程は、Python で自動化することができます。この方法は本書巻末に紹介しています。\n",
    "また、Google Coraboratory でファイルの読み込みを行う方法についても、巻末付録で説明しています。\n",
    "\n",
    "[^Aozora]: <https://www.aozora.gr.jp/>\n",
    "\n",
    "## 読点による執筆者判別\n",
    "\n",
    "\n",
    "ここで選んだ小説は以下になります。先にも触れたように、それぞれ50キロバイト（冒頭から1万6000文字）程度に切り詰めたファイルになっています。\n",
    "\n",
    "\n",
    "| 作家     | 作品名（ファイル名）                  |\n",
    "| --       | --                                    |\n",
    "| 森鴎外   | 雁 (ogai_gan.txt)                    | \n",
    "| 森鴎外   | かのように (ogai_kanoyouni.txt)      |\n",
    "| 森鴎外   | 鶏 (ogai_niwatori.txt)               |\n",
    "| 森鴎外   | ヰタ・セクスアリス (ogai_vita.txt)   |\n",
    "| 夏目漱石 | 永日小品 (soseki_eijitsu.txt)        | \n",
    "| 夏目漱石 | 硝子戸の中   (soseki_garasu.txt)     |\n",
    "| 夏目漱石 | 思い出す事など (soseki_omoidasu.txt) | \n",
    "| 夏目漱石 | 夢十夜  (soseki_yume.txt)            | \n",
    "\n",
    "\n",
    "\n",
    "以下の手順で、読点と文字の組み合わせを取り出す処理を行います。\n",
    "\n",
    "\n",
    "- 特定のフォルダ（ディレクトリ）に保存されたファイルをすべて読み込む\n",
    "- ファイルごとに、読点とその直前の文字のペアを見つけてカウントする\n",
    "- 各ファイルから求めた数値を表の形にまとめる\n",
    "- 生成された表をデータとして数値的な分析手法を適用する\n",
    "\n",
    "最後の数値的な分析手法として、ここでは**主成分分析**を適用します。主成分分析については後で改めて説明します。まず、フォルダからファイルを読み込む方法を説明します。\n",
    "\n",
    "\n",
    "### ファイル一覧の取得と読み込み\n",
    "\n"
   ]
  },
  {
   "cell_type": "code",
   "execution_count": 28,
   "metadata": {},
   "outputs": [
    {
     "name": "stdout",
     "output_type": "stream",
     "text": [
      "['ogai_gan.txt', 'ogai_kanoyoni.txt', 'ogai_niwatori.txt', 'ogai_vita.txt', 'soseki_eijitsu.txt', 'soseki_garasu.txt', 'soseki_omoidasu.txt', 'soseki_yume.txt']\n"
     ]
    }
   ],
   "source": [
    "import os\n",
    "files = os.listdir(\"data/writers\")\n",
    "files = sorted(files)\n",
    "print(files)"
   ]
  },
  {
   "cell_type": "code",
   "execution_count": 29,
   "metadata": {},
   "outputs": [],
   "source": [
    "path = os.path.abspath('data/writers')\n",
    "files_path = [path + '/' + txt_name for txt_name in files]\n",
    "# print(files_path)"
   ]
  },
  {
   "cell_type": "markdown",
   "metadata": {},
   "source": [
    "\n",
    "\n",
    "\n",
    "## 文字数のカウント\n",
    "\n",
    "次に、8つのファイルすべてを読み込み、読点と直前の文字をカウントします。\n",
    "\n",
    "ここで scikit-learn の出番です。なお、Anacondaをインストールした環境ではすでに scikit-learn はインストールされているはずですが、念のため以下の命令をセルで実行してみてください（インストール済みであれば、その旨が英語で表示されます）。"
   ]
  },
  {
   "cell_type": "code",
   "execution_count": 31,
   "metadata": {},
   "outputs": [
    {
     "name": "stdout",
     "output_type": "stream",
     "text": [
      "Defaulting to user installation because normal site-packages is not writeable\n",
      "Collecting scikit-learn\n",
      "  Using cached scikit_learn-1.1.2-cp310-cp310-manylinux_2_17_x86_64.manylinux2014_x86_64.whl (30.5 MB)\n",
      "Requirement already satisfied: scipy>=1.3.2 in /mnt/2bddf92b-47f9-4809-95a5-b91e7f25af27/local/lib/python3.10/site-packages (from scikit-learn) (1.9.0)\n",
      "Requirement already satisfied: numpy>=1.17.3 in /mnt/2bddf92b-47f9-4809-95a5-b91e7f25af27/local/lib/python3.10/site-packages (from scikit-learn) (1.23.2)\n",
      "Collecting joblib>=1.0.0\n",
      "  Using cached joblib-1.1.0-py2.py3-none-any.whl (306 kB)\n",
      "Collecting threadpoolctl>=2.0.0\n",
      "  Using cached threadpoolctl-3.1.0-py3-none-any.whl (14 kB)\n",
      "Installing collected packages: threadpoolctl, joblib, scikit-learn\n",
      "Successfully installed joblib-1.1.0 scikit-learn-1.1.2 threadpoolctl-3.1.0\n"
     ]
    }
   ],
   "source": [
    "!pip install scikit-learn"
   ]
  },
  {
   "cell_type": "code",
   "execution_count": 32,
   "metadata": {},
   "outputs": [],
   "source": [
    "from sklearn.feature_extraction.text import CountVectorizer\n",
    "cv = CountVectorizer(input = 'filename', ngram_range=(2,2), analyzer = 'char')\n",
    "docs = cv.fit_transform(files_path)"
   ]
  },
  {
   "cell_type": "code",
   "execution_count": 5,
   "metadata": {},
   "outputs": [
    {
     "name": "stdout",
     "output_type": "stream",
     "text": [
      "  (0, 81)\t1\n",
      "  (0, 15798)\t2\n",
      "  (0, 2563)\t1\n",
      "  (0, 24388)\t2\n",
      "  (0, 6255)\t97\n",
      "  (0, 2182)\t106\n",
      "  (0, 11808)\t119\n",
      "  (0, 1388)\t5\n",
      "  (0, 14812)\t12\n",
      "  (0, 9461)\t1\n",
      "  (0, 14749)\t5\n",
      "  (0, 21410)\t1\n",
      "  (0, 4954)\t56\n",
      "  (0, 12149)\t13\n",
      "  (0, 3536)\t2\n",
      "  (0, 19634)\t2\n",
      "  (0, 20939)\t2\n",
      "  (0, 15552)\t1\n",
      "  (0, 13734)\t1\n",
      "  (0, 17823)\t3\n",
      "  (0, 8509)\t6\n",
      "  (0, 15144)\t20\n",
      "  (0, 20200)\t4\n",
      "  (0, 14028)\t3\n",
      "  (0, 5400)\t24\n",
      "  :\t:\n",
      "  (7, 11833)\t1\n",
      "  (7, 12343)\t1\n",
      "  (7, 19541)\t1\n",
      "  (7, 14964)\t1\n",
      "  (7, 19800)\t1\n",
      "  (7, 2836)\t1\n",
      "  (7, 22912)\t1\n",
      "  (7, 3457)\t1\n",
      "  (7, 3701)\t1\n",
      "  (7, 23790)\t1\n",
      "  (7, 23796)\t1\n",
      "  (7, 7749)\t1\n",
      "  (7, 18094)\t1\n",
      "  (7, 8147)\t1\n",
      "  (7, 6111)\t1\n",
      "  (7, 10300)\t1\n",
      "  (7, 64)\t1\n",
      "  (7, 9534)\t1\n",
      "  (7, 16179)\t1\n",
      "  (7, 10721)\t1\n",
      "  (7, 9621)\t1\n",
      "  (7, 3737)\t1\n",
      "  (7, 9490)\t1\n",
      "  (7, 13427)\t1\n",
      "  (7, 9460)\t1\n"
     ]
    }
   ],
   "source": [
    "# print(docs)"
   ]
  },
  {
   "cell_type": "markdown",
   "metadata": {},
   "source": [
    "\n",
    "\n",
    "先に生成し初期化した`cv`オブジェクトには`.vocabulary_`という属性があり、抽出されたバイグラムとそのインデックスのペアが辞書として保存されています。\n",
    "確認してみましょう。\n"
   ]
  },
  {
   "cell_type": "code",
   "execution_count": 33,
   "metadata": {},
   "outputs": [
    {
     "name": "stdout",
     "output_type": "stream",
     "text": [
      "[(3230, 'が、'), (5725, 'て、'), (6251, 'で、'), (6613, 'と、'), (7456, 'に、'), (9344, 'は、'), (10640, 'も、'), (11231, 'ら、')]\n"
     ]
    }
   ],
   "source": [
    "bigrams = [(v,k)  for k,v in (cv.vocabulary_).items()  if k in ['が、', 'て、', 'と、', 'に、', 'は、', 'も、','ら、','で、']]\n",
    "print(sorted(bigrams))"
   ]
  },
  {
   "cell_type": "code",
   "execution_count": 34,
   "metadata": {},
   "outputs": [
    {
     "name": "stdout",
     "output_type": "stream",
     "text": [
      "バイグラムのインデックスを表示\n",
      "[3230, 5725, 6251, 6613, 7456, 9344, 10640, 11231]\n",
      "配列の要素（頻度）を表示\n"
     ]
    },
    {
     "data": {
      "text/plain": [
       "array([[ 66, 167,  67,  47,  55,  73,  10,  44],\n",
       "       [ 66, 194,  52,  34,  81,  67,  25,  34],\n",
       "       [ 48, 135,  76,  29,  36,  35,  14,  37],\n",
       "       [ 63, 112,  53,  36,  47,  69,  21,  35],\n",
       "       [ 31, 143,  37,  86,  41,  40,  22,  51],\n",
       "       [ 28,  70,  36,  24,  41,  39,  10,  33],\n",
       "       [ 38, 102,  46,  29,  32,  42,  18,  28],\n",
       "       [ 33, 138,  38,  41,  39,  22,  13,  44]])"
      ]
     },
     "execution_count": 34,
     "metadata": {},
     "output_type": "execute_result"
    }
   ],
   "source": [
    "bigrams_idx = [ i[0]  for i in sorted(bigrams)]\n",
    "print('バイグラムのインデックスを表示')\n",
    "print(bigrams_idx)\n",
    "print('配列の要素（頻度）を表示')\n",
    "docs.toarray()[:, bigrams_idx]"
   ]
  },
  {
   "cell_type": "markdown",
   "metadata": {},
   "source": [
    "\n",
    "\n",
    "## データフレーム\n",
    "\n",
    "観測値を矩形にまとめ、行と列にラベルを加えたデータ形式を **データフレーム** といいます（もともとは R で使われた用語です）。\n",
    "単純ですが、以下のような成績表がデータフレームの例です。要するに表計算ソフトでいうワークシートに近いものです。\n",
    "\n",
    "\n",
    "|氏名 |国語|数学|英語|\n",
    "|----+----+----+----|\n",
    "|加藤|95  |68  |88  |\n",
    "|佐藤|75  |89  |73  |\n",
    "|鈴木|88  |82  |91  |\n",
    "|田中|68  |93  |80  |\n",
    "|山本|91  |73  |94  |\n",
    "\n",
    "\n",
    "\n",
    "ここで観測値は氏名と、3科目の成績（整数値）で、1行は列名です。データ分析では、記録したデータをこうした矩形にまとめた上で、実際の分析にかけるのが一般的です。\n",
    "**pandas** は、データフレームを効率的に操作することができるライブラリです。\n",
    "\n",
    "そこで、先のバイグラムのデータ表を、pandasを使ってデータフレームに変換してみましょう。\n",
    "なお、Anacondaをインストールした環境ではすでに pandas  はインストールされているはずですが、念のため以下の命令をセルで実行してみてください（インストール済みであれば、その旨が英語で表示されます）。\n"
   ]
  },
  {
   "cell_type": "code",
   "execution_count": 35,
   "metadata": {},
   "outputs": [
    {
     "name": "stdout",
     "output_type": "stream",
     "text": [
      "Defaulting to user installation because normal site-packages is not writeable\n",
      "Requirement already satisfied: pandas in /mnt/2bddf92b-47f9-4809-95a5-b91e7f25af27/local/lib/python3.10/site-packages (1.4.3)\n",
      "Requirement already satisfied: pytz>=2020.1 in /usr/lib/python3/dist-packages (from pandas) (2022.1)\n",
      "Requirement already satisfied: python-dateutil>=2.8.1 in /mnt/2bddf92b-47f9-4809-95a5-b91e7f25af27/local/lib/python3.10/site-packages (from pandas) (2.8.2)\n",
      "Requirement already satisfied: numpy>=1.21.0 in /mnt/2bddf92b-47f9-4809-95a5-b91e7f25af27/local/lib/python3.10/site-packages (from pandas) (1.23.2)\n",
      "Requirement already satisfied: six>=1.5 in /usr/lib/python3/dist-packages (from python-dateutil>=2.8.1->pandas) (1.16.0)\n"
     ]
    }
   ],
   "source": [
    "!pip install pandas"
   ]
  },
  {
   "cell_type": "code",
   "execution_count": 36,
   "metadata": {},
   "outputs": [
    {
     "data": {
      "text/plain": [
       "['が、', 'て、', 'で、', 'と、', 'に、', 'は、', 'も、', 'ら、']"
      ]
     },
     "execution_count": 36,
     "metadata": {},
     "output_type": "execute_result"
    }
   ],
   "source": [
    "bigrams_features  = [ i[1]  for i in sorted(bigrams)]\n",
    "bigrams_features "
   ]
  },
  {
   "cell_type": "code",
   "execution_count": 37,
   "metadata": {},
   "outputs": [
    {
     "data": {
      "text/html": [
       "<div>\n",
       "<style scoped>\n",
       "    .dataframe tbody tr th:only-of-type {\n",
       "        vertical-align: middle;\n",
       "    }\n",
       "\n",
       "    .dataframe tbody tr th {\n",
       "        vertical-align: top;\n",
       "    }\n",
       "\n",
       "    .dataframe thead th {\n",
       "        text-align: right;\n",
       "    }\n",
       "</style>\n",
       "<table border=\"1\" class=\"dataframe\">\n",
       "  <thead>\n",
       "    <tr style=\"text-align: right;\">\n",
       "      <th></th>\n",
       "      <th>が、</th>\n",
       "      <th>て、</th>\n",
       "      <th>で、</th>\n",
       "      <th>と、</th>\n",
       "      <th>に、</th>\n",
       "      <th>は、</th>\n",
       "      <th>も、</th>\n",
       "      <th>ら、</th>\n",
       "    </tr>\n",
       "  </thead>\n",
       "  <tbody>\n",
       "    <tr>\n",
       "      <th>ogai_gan.txt</th>\n",
       "      <td>66</td>\n",
       "      <td>167</td>\n",
       "      <td>67</td>\n",
       "      <td>47</td>\n",
       "      <td>55</td>\n",
       "      <td>73</td>\n",
       "      <td>10</td>\n",
       "      <td>44</td>\n",
       "    </tr>\n",
       "    <tr>\n",
       "      <th>ogai_kanoyoni.txt</th>\n",
       "      <td>66</td>\n",
       "      <td>194</td>\n",
       "      <td>52</td>\n",
       "      <td>34</td>\n",
       "      <td>81</td>\n",
       "      <td>67</td>\n",
       "      <td>25</td>\n",
       "      <td>34</td>\n",
       "    </tr>\n",
       "    <tr>\n",
       "      <th>ogai_niwatori.txt</th>\n",
       "      <td>48</td>\n",
       "      <td>135</td>\n",
       "      <td>76</td>\n",
       "      <td>29</td>\n",
       "      <td>36</td>\n",
       "      <td>35</td>\n",
       "      <td>14</td>\n",
       "      <td>37</td>\n",
       "    </tr>\n",
       "    <tr>\n",
       "      <th>ogai_vita.txt</th>\n",
       "      <td>63</td>\n",
       "      <td>112</td>\n",
       "      <td>53</td>\n",
       "      <td>36</td>\n",
       "      <td>47</td>\n",
       "      <td>69</td>\n",
       "      <td>21</td>\n",
       "      <td>35</td>\n",
       "    </tr>\n",
       "    <tr>\n",
       "      <th>soseki_eijitsu.txt</th>\n",
       "      <td>31</td>\n",
       "      <td>143</td>\n",
       "      <td>37</td>\n",
       "      <td>86</td>\n",
       "      <td>41</td>\n",
       "      <td>40</td>\n",
       "      <td>22</td>\n",
       "      <td>51</td>\n",
       "    </tr>\n",
       "    <tr>\n",
       "      <th>soseki_garasu.txt</th>\n",
       "      <td>28</td>\n",
       "      <td>70</td>\n",
       "      <td>36</td>\n",
       "      <td>24</td>\n",
       "      <td>41</td>\n",
       "      <td>39</td>\n",
       "      <td>10</td>\n",
       "      <td>33</td>\n",
       "    </tr>\n",
       "    <tr>\n",
       "      <th>soseki_omoidasu.txt</th>\n",
       "      <td>38</td>\n",
       "      <td>102</td>\n",
       "      <td>46</td>\n",
       "      <td>29</td>\n",
       "      <td>32</td>\n",
       "      <td>42</td>\n",
       "      <td>18</td>\n",
       "      <td>28</td>\n",
       "    </tr>\n",
       "    <tr>\n",
       "      <th>soseki_yume.txt</th>\n",
       "      <td>33</td>\n",
       "      <td>138</td>\n",
       "      <td>38</td>\n",
       "      <td>41</td>\n",
       "      <td>39</td>\n",
       "      <td>22</td>\n",
       "      <td>13</td>\n",
       "      <td>44</td>\n",
       "    </tr>\n",
       "  </tbody>\n",
       "</table>\n",
       "</div>"
      ],
      "text/plain": [
       "                     が、   て、  で、  と、  に、  は、  も、  ら、\n",
       "ogai_gan.txt         66  167  67  47  55  73  10  44\n",
       "ogai_kanoyoni.txt    66  194  52  34  81  67  25  34\n",
       "ogai_niwatori.txt    48  135  76  29  36  35  14  37\n",
       "ogai_vita.txt        63  112  53  36  47  69  21  35\n",
       "soseki_eijitsu.txt   31  143  37  86  41  40  22  51\n",
       "soseki_garasu.txt    28   70  36  24  41  39  10  33\n",
       "soseki_omoidasu.txt  38  102  46  29  32  42  18  28\n",
       "soseki_yume.txt      33  138  38  41  39  22  13  44"
      ]
     },
     "execution_count": 37,
     "metadata": {},
     "output_type": "execute_result"
    }
   ],
   "source": [
    "import pandas as pd\n",
    "bigrams_df = pd.DataFrame(docs.toarray()[:, bigrams_idx], columns=bigrams_features, index=files)\n",
    "bigrams_df"
   ]
  },
  {
   "cell_type": "code",
   "execution_count": 38,
   "metadata": {},
   "outputs": [
    {
     "data": {
      "text/plain": [
       "ogai_gan.txt           66\n",
       "ogai_kanoyoni.txt      66\n",
       "ogai_niwatori.txt      48\n",
       "ogai_vita.txt          63\n",
       "soseki_eijitsu.txt     31\n",
       "soseki_garasu.txt      28\n",
       "soseki_omoidasu.txt    38\n",
       "soseki_yume.txt        33\n",
       "Name: が、, dtype: int64"
      ]
     },
     "execution_count": 38,
     "metadata": {},
     "output_type": "execute_result"
    }
   ],
   "source": [
    "bigrams_df['が、']"
   ]
  },
  {
   "cell_type": "markdown",
   "metadata": {},
   "source": [
    "\n",
    "データフレームを確認すると、鴎外では「が、」や「に、」の頻度が高く、漱石では頻度が低いことが分かります。そこで、「が、」と「に、」を使って散布図を描いてみましょう。\n",
    "\n",
    "## グラフィックス\n",
    "\n",
    "データ分析では、データを可視化して、その特徴を直感的にとらえる作業が欠かせません。Python においては **matplotlib** というライブラリが標準的に使われます。matplotlib のグラフィックス表現力は公式サイト[^matplotlib] などで確認できるので、ぜひ参照してください。ここでは、単純なグラフィックスの作成例を紹介しましょう。\n",
    "\n",
    "[^matplotlib]: <https://matplotlib.org/>\n",
    "\n",
    "まず、グラフィックス作成の手順を以下に示します。おおよそ次のように進めます。\n",
    "\n",
    "1. matplotlibをインポートする\n",
    "2. Jupyter Notebook を利用する場合はインライン表示を指定\n",
    "3. 白地のキャンバス(figure)と描画領域(ax)の2つを生成\n",
    "4. 描画領域に作図を指示する\n",
    "\n",
    "なお、Anacondaをインストールした環境ではすでに matplotlib はインストールされているはずですが、念のため以下の命令をセルで実行してみてください（インストール済みであれば、その旨が英語で表示されます）。\n"
   ]
  },
  {
   "cell_type": "code",
   "execution_count": 39,
   "metadata": {},
   "outputs": [
    {
     "name": "stdout",
     "output_type": "stream",
     "text": [
      "Defaulting to user installation because normal site-packages is not writeable\n",
      "Requirement already satisfied: matplotlib in /mnt/2bddf92b-47f9-4809-95a5-b91e7f25af27/local/lib/python3.10/site-packages (3.5.3)\n",
      "Requirement already satisfied: python-dateutil>=2.7 in /mnt/2bddf92b-47f9-4809-95a5-b91e7f25af27/local/lib/python3.10/site-packages (from matplotlib) (2.8.2)\n",
      "Requirement already satisfied: cycler>=0.10 in /mnt/2bddf92b-47f9-4809-95a5-b91e7f25af27/local/lib/python3.10/site-packages (from matplotlib) (0.11.0)\n",
      "Requirement already satisfied: numpy>=1.17 in /mnt/2bddf92b-47f9-4809-95a5-b91e7f25af27/local/lib/python3.10/site-packages (from matplotlib) (1.23.2)\n",
      "Requirement already satisfied: kiwisolver>=1.0.1 in /mnt/2bddf92b-47f9-4809-95a5-b91e7f25af27/local/lib/python3.10/site-packages (from matplotlib) (1.4.4)\n",
      "Requirement already satisfied: packaging>=20.0 in /mnt/2bddf92b-47f9-4809-95a5-b91e7f25af27/local/lib/python3.10/site-packages (from matplotlib) (21.3)\n",
      "Requirement already satisfied: pillow>=6.2.0 in /usr/lib/python3/dist-packages (from matplotlib) (9.0.1)\n",
      "Requirement already satisfied: fonttools>=4.22.0 in /mnt/2bddf92b-47f9-4809-95a5-b91e7f25af27/local/lib/python3.10/site-packages (from matplotlib) (4.36.0)\n",
      "Requirement already satisfied: pyparsing>=2.2.1 in /usr/lib/python3/dist-packages (from matplotlib) (2.4.7)\n",
      "Requirement already satisfied: six>=1.5 in /usr/lib/python3/dist-packages (from python-dateutil>=2.7->matplotlib) (1.16.0)\n"
     ]
    }
   ],
   "source": [
    "!pip install  matplotlib"
   ]
  },
  {
   "cell_type": "code",
   "execution_count": 40,
   "metadata": {},
   "outputs": [
    {
     "data": {
      "text/plain": [
       "[<matplotlib.lines.Line2D at 0x7f9ac12bd0c0>]"
      ]
     },
     "execution_count": 40,
     "metadata": {},
     "output_type": "execute_result"
    },
    {
     "data": {
      "image/png": "[encoded data removed]",
      "text/plain": [
       "<Figure size 640x480 with 1 Axes>"
      ]
     },
     "metadata": {},
     "output_type": "display_data"
    }
   ],
   "source": [
    "## jupyter 用のマジックコマンド（この１行は省略しても描画できることがほとんどです）\n",
    "%matplotlib inline\n",
    "## matplotlib を読み込み\n",
    "import matplotlib.pyplot as plt\n",
    "## グラフィックスのテーマを指定（ここではRのggplot2風のテーマ）\n",
    "plt.style.use('ggplot')\n",
    "## 描画データ\n",
    "x = [1,2,3,4,5]\n",
    "y = [10,20,30,40,50]\n",
    "## ここで以下のようにしても描画されるが\n",
    "# plt.plot(x, y)\n",
    "## 以下のような手順を踏んで描画するのが望ましい\n",
    "## 描画領域を準備\n",
    "fig = plt.figure()\n",
    "## 描画領域にプロット領域を確保\n",
    "ax = fig.subplots()\n",
    "## 描画する\n",
    "ax.plot(x, y, color='r')\n",
    "## Jupyter以外の環境では以下が必要\n",
    "# plt.show()"
   ]
  },
  {
   "cell_type": "markdown",
   "metadata": {},
   "source": [
    "インターネット上の解説の多くに Jupyter でグラフィックスを使う場合 `%matplotlib inline` の1行を追加しておくという説明がなされています。\n",
    "実は、最近の Jupyter ではこの命令（Jupyterではマジックコマンドと呼びます）を書いておかなくてもプロットは表示されるのですが、なにかの都合で明示的にこの1行を加えておかないとグラフィックスが現れない場合もあるので、念のためノートブックの最初にセルに加えておいたほうがいいでしょう。\n",
    "\n",
    "matplotlib を plt という略称でインポートしたあと、好みのテーマを指定します（テーマの指定は省略しても構いません）。\n",
    "**描画領域** を `figure` 関数で用意し、プロットのための領域を `subplots` 関数で設定しています。\n",
    "**プロット領域** を表すオブジェクト（ここでは、慣習的によく使われる `ax` という名前にしました）を使って描画(`plot`)しています。\n"
   ]
  },
  {
   "cell_type": "code",
   "execution_count": 41,
   "metadata": {},
   "outputs": [
    {
     "data": {
      "text/plain": [
       "<BarContainer object of 5 artists>"
      ]
     },
     "execution_count": 41,
     "metadata": {},
     "output_type": "execute_result"
    },
    {
     "data": {
      "image/png": "[encoded data removed]",
      "text/plain": [
       "<Figure size 640x480 with 1 Axes>"
      ]
     },
     "metadata": {},
     "output_type": "display_data"
    }
   ],
   "source": [
    "fig, ax = plt.subplots()\n",
    "ax.bar(x,y)"
   ]
  },
  {
   "cell_type": "code",
   "execution_count": 42,
   "metadata": {},
   "outputs": [
    {
     "data": {
      "text/plain": [
       "Text(0.5, 1.0, 'Scatter Plot')"
      ]
     },
     "execution_count": 42,
     "metadata": {},
     "output_type": "execute_result"
    },
    {
     "data": {
      "image/png": "[encoded data removed]",
      "text/plain": [
       "<Figure size 640x480 with 3 Axes>"
      ]
     },
     "metadata": {},
     "output_type": "display_data"
    }
   ],
   "source": [
    "fig = plt.figure()\n",
    "## 2行2列の1番目\n",
    "ax1 = fig.add_subplot(2, 2, 1)\n",
    "## 2行2列の3番目\n",
    "ax2 = fig.add_subplot(2, 2, 2)\n",
    "## 1行4列の4番目\n",
    "ax3 = fig.add_subplot(2, 2, 3)  \n",
    "ax1.bar(x,y)\n",
    "ax1.set_title('Bar Plot')\n",
    "ax3.scatter(x,y)\n",
    "ax3.set_title('Scatter Plot')"
   ]
  },
  {
   "cell_type": "markdown",
   "metadata": {},
   "source": [
    "\n",
    "\n",
    "seaborn の描画を試してみましょう。\n"
   ]
  },
  {
   "cell_type": "code",
   "execution_count": 43,
   "metadata": {},
   "outputs": [
    {
     "data": {
      "text/plain": [
       "<seaborn.axisgrid.JointGrid at 0x7f9ac10f7d00>"
      ]
     },
     "execution_count": 43,
     "metadata": {},
     "output_type": "execute_result"
    },
    {
     "data": {
      "image/png": "[encoded data removed]",
      "text/plain": [
       "<Figure size 600x600 with 3 Axes>"
      ]
     },
     "metadata": {},
     "output_type": "display_data"
    }
   ],
   "source": [
    "import seaborn as sns\n",
    "iris = sns.load_dataset('iris')\n",
    "sns.jointplot(x='sepal_width', y='petal_length', data=iris)"
   ]
  },
  {
   "cell_type": "markdown",
   "metadata": {},
   "source": [
    "seaborn に付属している **iris** データセットを使って、散布図とヒストグラムを結合したグラフィックスを作成しました。iris はデータサイエンス分野で分析やグラフィックスのサンプルとして有名なデータセットです。"
   ]
  },
  {
   "cell_type": "code",
   "execution_count": 44,
   "metadata": {},
   "outputs": [
    {
     "name": "stdout",
     "output_type": "stream",
     "text": [
      ".. _iris_dataset:\n",
      "\n",
      "Iris plants dataset\n",
      "--------------------\n",
      "\n",
      "**Data Set Characteristics:**\n",
      "\n",
      "    :Number of Instances: 150 (50 in each of three classes)\n",
      "    :Number of Attributes: 4 numeric, predictive attributes and the class\n",
      "    :Attribute Information:\n",
      "        - sepal length in cm\n",
      "        - sepal width in cm\n",
      "        - petal length in cm\n",
      "        - petal width in cm\n",
      "        - class:\n",
      "                - Iris-Setosa\n",
      "                - Iris-Versicolour\n",
      "                - Iris-Virginica\n",
      "                \n",
      "    :Summary Statistics:\n",
      "\n",
      "    ============== ==== ==== ======= ===== ====================\n",
      "                    Min  Max   Mean    SD   Class Correlation\n",
      "    ============== ==== ==== ======= ===== ====================\n",
      "    sepal length:   4.3  7.9   5.84   0.83    0.7826\n",
      "    sepal width:    2.0  4.4   3.05   0.43   -0.4194\n",
      "    petal length:   1.0  6.9   3.76   1.76    0.9490  (high!)\n",
      "    petal width:    0.1  2.5   1.20   0.76    0.9565  (high!)\n",
      "    ============== ==== ==== ======= ===== ====================\n",
      "\n",
      "    :Missing Attribute Values: None\n",
      "    :Class Distribution: 33.3% for each of 3 classes.\n",
      "    :Creator: R.A. Fisher\n",
      "    :Donor: Michael Marshall (MARSHALL%PLU@io.arc.nasa.gov)\n",
      "    :Date: July, 1988\n",
      "\n",
      "The famous Iris database, first used by Sir R.A. Fisher. The dataset is taken\n",
      "from Fisher's paper. Note that it's the same as in R, but not as in the UCI\n",
      "Machine Learning Repository, which has two wrong data points.\n",
      "\n",
      "This is perhaps the best known database to be found in the\n",
      "pattern recognition literature.  Fisher's paper is a classic in the field and\n",
      "is referenced frequently to this day.  (See Duda & Hart, for example.)  The\n",
      "data set contains 3 classes of 50 instances each, where each class refers to a\n",
      "type of iris plant.  One class is linearly separable from the other 2; the\n",
      "latter are NOT linearly separable from each other.\n",
      "\n",
      ".. topic:: References\n",
      "\n",
      "   - Fisher, R.A. \"The use of multiple measurements in taxonomic problems\"\n",
      "     Annual Eugenics, 7, Part II, 179-188 (1936); also in \"Contributions to\n",
      "     Mathematical Statistics\" (John Wiley, NY, 1950).\n",
      "   - Duda, R.O., & Hart, P.E. (1973) Pattern Classification and Scene Analysis.\n",
      "     (Q327.D83) John Wiley & Sons.  ISBN 0-471-22361-1.  See page 218.\n",
      "   - Dasarathy, B.V. (1980) \"Nosing Around the Neighborhood: A New System\n",
      "     Structure and Classification Rule for Recognition in Partially Exposed\n",
      "     Environments\".  IEEE Transactions on Pattern Analysis and Machine\n",
      "     Intelligence, Vol. PAMI-2, No. 1, 67-71.\n",
      "   - Gates, G.W. (1972) \"The Reduced Nearest Neighbor Rule\".  IEEE Transactions\n",
      "     on Information Theory, May 1972, 431-433.\n",
      "   - See also: 1988 MLC Proceedings, 54-64.  Cheeseman et al\"s AUTOCLASS II\n",
      "     conceptual clustering system finds 3 classes in the data.\n",
      "   - Many, many more ...\n"
     ]
    }
   ],
   "source": [
    "from sklearn.datasets import load_iris\n",
    "iris_dataset = load_iris()\n",
    "print(iris_dataset.DESCR)"
   ]
  },
  {
   "cell_type": "markdown",
   "metadata": {},
   "source": [
    "\n",
    "## 散布図\n",
    "漱石と鴎外から抽出したバイグラムのデータに話を戻し、「が、」と「で、」の2つを使って散布図を作成してみましょう。以下では、Windows および Mac、そして Ubuntu で利用可能な **日本語フォント** 候補を記述しています。\n",
    "\n"
   ]
  },
  {
   "cell_type": "code",
   "execution_count": 45,
   "metadata": {},
   "outputs": [
    {
     "data": {
      "text/plain": [
       "<AxesSubplot:xlabel='が、', ylabel='で、'>"
      ]
     },
     "execution_count": 45,
     "metadata": {},
     "output_type": "execute_result"
    },
    {
     "data": {
      "image/png": "[encoded data removed]",
      "text/plain": [
       "<Figure size 640x480 with 1 Axes>"
      ]
     },
     "metadata": {},
     "output_type": "display_data"
    }
   ],
   "source": [
    "%matplotlib inline\n",
    "import matplotlib.pyplot as plt\n",
    "import seaborn as sns\n",
    "sns.set(style='darkgrid')\n",
    "from matplotlib import rcParams\n",
    "rcParams['font.family'] = 'sans-serif'\n",
    "rcParams['font.sans-serif'] = ['Yu Gothic', 'Meirio', 'Hiragino Maru Gothic Pro', 'Takao', 'IPAexGothic', 'IPAPGothic', 'VL PGothic', 'Noto Sans CJK JP']\n",
    "lbls = ['鴎外','鴎外','鴎外', '鴎外', '漱石', '漱石', '漱石', '漱石']\n",
    "sns.scatterplot(data=bigrams_df, x='が、', y='で、', style=lbls, hue=lbls)"
   ]
  },
  {
   "cell_type": "code",
   "execution_count": 46,
   "metadata": {},
   "outputs": [
    {
     "data": {
      "text/plain": [
       "<mpl_toolkits.mplot3d.art3d.Path3DCollection at 0x7f9a9ea9a410>"
      ]
     },
     "execution_count": 46,
     "metadata": {},
     "output_type": "execute_result"
    },
    {
     "data": {
      "image/png": "[encoded data removed]",
      "text/plain": [
       "<Figure size 640x480 with 1 Axes>"
      ]
     },
     "metadata": {},
     "output_type": "display_data"
    }
   ],
   "source": [
    "from mpl_toolkits.mplot3d import Axes3D\n",
    "\n",
    "fig = plt.figure()\n",
    "ax = fig.add_subplot(111, projection = '3d')\n",
    "\n",
    "ax.set_xlabel('が、')\n",
    "ax.set_ylabel('で、')\n",
    "ax.set_zlabel('は、')\n",
    "\n",
    "ax.scatter(bigrams_df['が、'], bigrams_df['で、'], bigrams_df['は、'], marker=\"o\", linestyle='None')"
   ]
  },
  {
   "cell_type": "markdown",
   "metadata": {},
   "source": [
    "\n",
    "\n",
    "\n",
    "## 主成分分析\n",
    "\n",
    "ここで簡単に **主成分分析** (PCA: Principal Component Anaysis) について説明しましょう。主成分分析は多数の変数の情報を、主成分と呼ばれる少数の合成変量に変換する手法です。\n",
    "\n",
    "\n",
    "\n",
    "1. データの共分散行列 $\\Sigma$ を作成する\n",
    "2. 共分散行列を固有ベクトル $A$ と固有値 $\\Lambda$に分解する\n",
    "3. 固有値の大きい順に任意の数 $k$ 選び $\\Lambda_{k}$ とする\n",
    "4. 対応する $k$ 個の固有ベクトル $A_k$ と元データの積をとる\n",
    "\n",
    "\n",
    "3 品種のあやめ（菖蒲）150個体それぞれについて 4 種類の測定を行ったデータである iris の共分散行列を求めると、以下のようになります。\n",
    "\n"
   ]
  },
  {
   "cell_type": "code",
   "execution_count": 47,
   "metadata": {},
   "outputs": [
    {
     "data": {
      "text/plain": [
       "array([[ 0.68569351, -0.042434  ,  1.27431544,  0.51627069],\n",
       "       [-0.042434  ,  0.18997942, -0.32965638, -0.12163937],\n",
       "       [ 1.27431544, -0.32965638,  3.11627785,  1.2956094 ],\n",
       "       [ 0.51627069, -0.12163937,  1.2956094 ,  0.58100626]])"
      ]
     },
     "execution_count": 47,
     "metadata": {},
     "output_type": "execute_result"
    }
   ],
   "source": [
    "import numpy as np\n",
    "from sklearn.datasets import load_iris\n",
    "iris = load_iris()\n",
    "iris_cov = np.cov(iris.data, rowvar=False)\n",
    "iris_cov"
   ]
  },
  {
   "cell_type": "code",
   "execution_count": 48,
   "metadata": {},
   "outputs": [
    {
     "name": "stdout",
     "output_type": "stream",
     "text": [
      "固有値 [4.22824171 0.24267075 0.0782095  0.02383509]\n",
      "固有ベクトル [[ 0.36138659 -0.65658877 -0.58202985  0.31548719]\n",
      " [-0.08452251 -0.73016143  0.59791083 -0.3197231 ]\n",
      " [ 0.85667061  0.17337266  0.07623608 -0.47983899]\n",
      " [ 0.3582892   0.07548102  0.54583143  0.75365743]]\n"
     ]
    }
   ],
   "source": [
    "iris_eig, iris_vec = np.linalg.eig(iris_cov)\n",
    "## 固有値を表示\n",
    "print('固有値 {}'.format(iris_eig))\n",
    "print('固有ベクトル {}'.format(iris_vec))"
   ]
  },
  {
   "cell_type": "code",
   "execution_count": 49,
   "metadata": {},
   "outputs": [
    {
     "data": {
      "text/plain": [
       "array([[ 0.68569351, -0.042434  ,  1.27431544,  0.51627069],\n",
       "       [-0.042434  ,  0.18997942, -0.32965638, -0.12163937],\n",
       "       [ 1.27431544, -0.32965638,  3.11627785,  1.2956094 ],\n",
       "       [ 0.51627069, -0.12163937,  1.2956094 ,  0.58100626]])"
      ]
     },
     "execution_count": 49,
     "metadata": {},
     "output_type": "execute_result"
    }
   ],
   "source": [
    "np.dot(np.dot(iris_vec, np.diag(iris_eig)), iris_vec.T)\n",
    "## 以下のようにしても同じ\n",
    "# np.dot(np.sqrt(iris_eig) *  iris_vec, (np.sqrt(iris_eig) *  iris_vec).T)"
   ]
  },
  {
   "cell_type": "code",
   "execution_count": 50,
   "metadata": {},
   "outputs": [
    {
     "data": {
      "text/plain": [
       "array([[-1.20673343, -2.2134993 ],\n",
       "       [-0.95071637, -1.83151408],\n",
       "       [-1.09610845, -2.02043295],\n",
       "       [-1.18299421, -1.81938239],\n",
       "       [-1.30853097, -2.27806319]])"
      ]
     },
     "execution_count": 50,
     "metadata": {},
     "output_type": "execute_result"
    }
   ],
   "source": [
    "iris_pca = np.dot(iris.data, iris_vec.T[:, :2])\n",
    "iris_pca[:5, ]"
   ]
  },
  {
   "cell_type": "code",
   "execution_count": 51,
   "metadata": {},
   "outputs": [
    {
     "data": {
      "text/plain": [
       "0.9776852063187947"
      ]
     },
     "execution_count": 51,
     "metadata": {},
     "output_type": "execute_result"
    }
   ],
   "source": [
    "np.sum(iris_eig[:2]) / np.sum(iris_eig)"
   ]
  },
  {
   "cell_type": "code",
   "execution_count": 52,
   "metadata": {},
   "outputs": [
    {
     "data": {
      "text/plain": [
       "<AxesSubplot:xlabel='PC1', ylabel='PC2'>"
      ]
     },
     "execution_count": 52,
     "metadata": {},
     "output_type": "execute_result"
    },
    {
     "data": {
      "image/png": "[encoded data removed]",
      "text/plain": [
       "<Figure size 640x480 with 1 Axes>"
      ]
     },
     "metadata": {},
     "output_type": "display_data"
    }
   ],
   "source": [
    "iris_pca_df = pd.DataFrame(iris_pca, columns=['PC1', 'PC2'])\n",
    "iris_pca_df['Species'] = iris.target\n",
    "# iris_pca_df\n",
    "sns.scatterplot(data=iris_pca_df, x='PC1', y='PC2', hue='Species')"
   ]
  },
  {
   "cell_type": "markdown",
   "metadata": {},
   "source": [
    "\n",
    "scikit-learn パッケージの **PCA** を使って主成分分析を実行すると以下のようになります。なお、今回は seaborn に付属する iris データを使ってみます。\n"
   ]
  },
  {
   "cell_type": "code",
   "execution_count": 53,
   "metadata": {},
   "outputs": [
    {
     "data": {
      "text/html": [
       "<div>\n",
       "<style scoped>\n",
       "    .dataframe tbody tr th:only-of-type {\n",
       "        vertical-align: middle;\n",
       "    }\n",
       "\n",
       "    .dataframe tbody tr th {\n",
       "        vertical-align: top;\n",
       "    }\n",
       "\n",
       "    .dataframe thead th {\n",
       "        text-align: right;\n",
       "    }\n",
       "</style>\n",
       "<table border=\"1\" class=\"dataframe\">\n",
       "  <thead>\n",
       "    <tr style=\"text-align: right;\">\n",
       "      <th></th>\n",
       "      <th>sepal_length</th>\n",
       "      <th>sepal_width</th>\n",
       "      <th>petal_length</th>\n",
       "      <th>petal_width</th>\n",
       "      <th>species</th>\n",
       "    </tr>\n",
       "  </thead>\n",
       "  <tbody>\n",
       "    <tr>\n",
       "      <th>0</th>\n",
       "      <td>5.1</td>\n",
       "      <td>3.5</td>\n",
       "      <td>1.4</td>\n",
       "      <td>0.2</td>\n",
       "      <td>setosa</td>\n",
       "    </tr>\n",
       "    <tr>\n",
       "      <th>1</th>\n",
       "      <td>4.9</td>\n",
       "      <td>3.0</td>\n",
       "      <td>1.4</td>\n",
       "      <td>0.2</td>\n",
       "      <td>setosa</td>\n",
       "    </tr>\n",
       "    <tr>\n",
       "      <th>2</th>\n",
       "      <td>4.7</td>\n",
       "      <td>3.2</td>\n",
       "      <td>1.3</td>\n",
       "      <td>0.2</td>\n",
       "      <td>setosa</td>\n",
       "    </tr>\n",
       "    <tr>\n",
       "      <th>3</th>\n",
       "      <td>4.6</td>\n",
       "      <td>3.1</td>\n",
       "      <td>1.5</td>\n",
       "      <td>0.2</td>\n",
       "      <td>setosa</td>\n",
       "    </tr>\n",
       "    <tr>\n",
       "      <th>4</th>\n",
       "      <td>5.0</td>\n",
       "      <td>3.6</td>\n",
       "      <td>1.4</td>\n",
       "      <td>0.2</td>\n",
       "      <td>setosa</td>\n",
       "    </tr>\n",
       "  </tbody>\n",
       "</table>\n",
       "</div>"
      ],
      "text/plain": [
       "   sepal_length  sepal_width  petal_length  petal_width species\n",
       "0           5.1          3.5           1.4          0.2  setosa\n",
       "1           4.9          3.0           1.4          0.2  setosa\n",
       "2           4.7          3.2           1.3          0.2  setosa\n",
       "3           4.6          3.1           1.5          0.2  setosa\n",
       "4           5.0          3.6           1.4          0.2  setosa"
      ]
     },
     "execution_count": 53,
     "metadata": {},
     "output_type": "execute_result"
    }
   ],
   "source": [
    "iris = sns.load_dataset('iris')\n",
    "iris.head()"
   ]
  },
  {
   "cell_type": "markdown",
   "metadata": {},
   "source": [
    "### 標準化\n",
    "\n",
    "一般に、主成分分析を行う場合、最初に各測定変数を標準化します。\n",
    "\n"
   ]
  },
  {
   "cell_type": "code",
   "execution_count": 54,
   "metadata": {},
   "outputs": [],
   "source": [
    "from sklearn.preprocessing import StandardScaler\n",
    "features = ['sepal_length', 'sepal_width', 'petal_length', 'petal_width']\n",
    "x = iris.loc[:, features].values\n",
    "y = iris.loc[:, ['species']].values\n",
    "x = StandardScaler().fit_transform(x)"
   ]
  },
  {
   "cell_type": "markdown",
   "metadata": {},
   "source": [
    "標準化した変数に `PCA()` を適用しますが、引数に最初の2つの主成分を利用することを指定します。\n"
   ]
  },
  {
   "cell_type": "code",
   "execution_count": 55,
   "metadata": {},
   "outputs": [
    {
     "data": {
      "text/html": [
       "<div>\n",
       "<style scoped>\n",
       "    .dataframe tbody tr th:only-of-type {\n",
       "        vertical-align: middle;\n",
       "    }\n",
       "\n",
       "    .dataframe tbody tr th {\n",
       "        vertical-align: top;\n",
       "    }\n",
       "\n",
       "    .dataframe thead th {\n",
       "        text-align: right;\n",
       "    }\n",
       "</style>\n",
       "<table border=\"1\" class=\"dataframe\">\n",
       "  <thead>\n",
       "    <tr style=\"text-align: right;\">\n",
       "      <th></th>\n",
       "      <th>PC1</th>\n",
       "      <th>PC2</th>\n",
       "      <th>species</th>\n",
       "    </tr>\n",
       "  </thead>\n",
       "  <tbody>\n",
       "    <tr>\n",
       "      <th>0</th>\n",
       "      <td>-2.264703</td>\n",
       "      <td>0.480027</td>\n",
       "      <td>setosa</td>\n",
       "    </tr>\n",
       "    <tr>\n",
       "      <th>1</th>\n",
       "      <td>-2.080961</td>\n",
       "      <td>-0.674134</td>\n",
       "      <td>setosa</td>\n",
       "    </tr>\n",
       "    <tr>\n",
       "      <th>2</th>\n",
       "      <td>-2.364229</td>\n",
       "      <td>-0.341908</td>\n",
       "      <td>setosa</td>\n",
       "    </tr>\n",
       "    <tr>\n",
       "      <th>3</th>\n",
       "      <td>-2.299384</td>\n",
       "      <td>-0.597395</td>\n",
       "      <td>setosa</td>\n",
       "    </tr>\n",
       "    <tr>\n",
       "      <th>4</th>\n",
       "      <td>-2.389842</td>\n",
       "      <td>0.646835</td>\n",
       "      <td>setosa</td>\n",
       "    </tr>\n",
       "    <tr>\n",
       "      <th>...</th>\n",
       "      <td>...</td>\n",
       "      <td>...</td>\n",
       "      <td>...</td>\n",
       "    </tr>\n",
       "    <tr>\n",
       "      <th>145</th>\n",
       "      <td>1.870503</td>\n",
       "      <td>0.386966</td>\n",
       "      <td>virginica</td>\n",
       "    </tr>\n",
       "    <tr>\n",
       "      <th>146</th>\n",
       "      <td>1.564580</td>\n",
       "      <td>-0.896687</td>\n",
       "      <td>virginica</td>\n",
       "    </tr>\n",
       "    <tr>\n",
       "      <th>147</th>\n",
       "      <td>1.521170</td>\n",
       "      <td>0.269069</td>\n",
       "      <td>virginica</td>\n",
       "    </tr>\n",
       "    <tr>\n",
       "      <th>148</th>\n",
       "      <td>1.372788</td>\n",
       "      <td>1.011254</td>\n",
       "      <td>virginica</td>\n",
       "    </tr>\n",
       "    <tr>\n",
       "      <th>149</th>\n",
       "      <td>0.960656</td>\n",
       "      <td>-0.024332</td>\n",
       "      <td>virginica</td>\n",
       "    </tr>\n",
       "  </tbody>\n",
       "</table>\n",
       "<p>150 rows × 3 columns</p>\n",
       "</div>"
      ],
      "text/plain": [
       "          PC1       PC2    species\n",
       "0   -2.264703  0.480027     setosa\n",
       "1   -2.080961 -0.674134     setosa\n",
       "2   -2.364229 -0.341908     setosa\n",
       "3   -2.299384 -0.597395     setosa\n",
       "4   -2.389842  0.646835     setosa\n",
       "..        ...       ...        ...\n",
       "145  1.870503  0.386966  virginica\n",
       "146  1.564580 -0.896687  virginica\n",
       "147  1.521170  0.269069  virginica\n",
       "148  1.372788  1.011254  virginica\n",
       "149  0.960656 -0.024332  virginica\n",
       "\n",
       "[150 rows x 3 columns]"
      ]
     },
     "execution_count": 55,
     "metadata": {},
     "output_type": "execute_result"
    }
   ],
   "source": [
    "from sklearn.decomposition import PCA\n",
    "pca = PCA(n_components=2)\n",
    "pca_fitted  = pca.fit_transform(x)\n",
    "pca_df = pd.DataFrame(data = pca_fitted,\n",
    "                      columns = ['PC1', 'PC2'])\n",
    "pca_df['species'] = iris.species\n",
    "pca_df"
   ]
  },
  {
   "cell_type": "code",
   "execution_count": 56,
   "metadata": {},
   "outputs": [
    {
     "data": {
      "text/plain": [
       "<AxesSubplot:xlabel='PC1', ylabel='PC2'>"
      ]
     },
     "execution_count": 56,
     "metadata": {},
     "output_type": "execute_result"
    },
    {
     "data": {
      "image/png": "[encoded data removed]",
      "text/plain": [
       "<Figure size 640x480 with 1 Axes>"
      ]
     },
     "metadata": {},
     "output_type": "display_data"
    }
   ],
   "source": [
    "sns.scatterplot(data=pca_df, x='PC1', y='PC2', hue='species')"
   ]
  },
  {
   "cell_type": "markdown",
   "metadata": {},
   "source": [
    "\n",
    "それでは、鴎外と漱石から抽出したバイグラムのデータを使って、主成分分析を実行してみましょう。\n"
   ]
  },
  {
   "cell_type": "code",
   "execution_count": 57,
   "metadata": {},
   "outputs": [
    {
     "data": {
      "text/html": [
       "<div>\n",
       "<style scoped>\n",
       "    .dataframe tbody tr th:only-of-type {\n",
       "        vertical-align: middle;\n",
       "    }\n",
       "\n",
       "    .dataframe tbody tr th {\n",
       "        vertical-align: top;\n",
       "    }\n",
       "\n",
       "    .dataframe thead th {\n",
       "        text-align: right;\n",
       "    }\n",
       "</style>\n",
       "<table border=\"1\" class=\"dataframe\">\n",
       "  <thead>\n",
       "    <tr style=\"text-align: right;\">\n",
       "      <th></th>\n",
       "      <th>が、</th>\n",
       "      <th>て、</th>\n",
       "      <th>で、</th>\n",
       "      <th>と、</th>\n",
       "      <th>に、</th>\n",
       "      <th>は、</th>\n",
       "      <th>も、</th>\n",
       "      <th>ら、</th>\n",
       "    </tr>\n",
       "  </thead>\n",
       "  <tbody>\n",
       "    <tr>\n",
       "      <th>ogai_gan.txt</th>\n",
       "      <td>1.184820</td>\n",
       "      <td>0.892852</td>\n",
       "      <td>1.118672</td>\n",
       "      <td>0.317559</td>\n",
       "      <td>0.545436</td>\n",
       "      <td>1.315758</td>\n",
       "      <td>-1.161145</td>\n",
       "      <td>0.768867</td>\n",
       "    </tr>\n",
       "    <tr>\n",
       "      <th>ogai_kanoyoni.txt</th>\n",
       "      <td>1.184820</td>\n",
       "      <td>1.594146</td>\n",
       "      <td>0.093934</td>\n",
       "      <td>-0.342964</td>\n",
       "      <td>2.213827</td>\n",
       "      <td>0.995167</td>\n",
       "      <td>1.467863</td>\n",
       "      <td>-0.568293</td>\n",
       "    </tr>\n",
       "    <tr>\n",
       "      <th>ogai_niwatori.txt</th>\n",
       "      <td>0.084084</td>\n",
       "      <td>0.061688</td>\n",
       "      <td>1.733515</td>\n",
       "      <td>-0.597011</td>\n",
       "      <td>-0.673773</td>\n",
       "      <td>-0.714650</td>\n",
       "      <td>-0.460076</td>\n",
       "      <td>-0.167145</td>\n",
       "    </tr>\n",
       "    <tr>\n",
       "      <th>ogai_vita.txt</th>\n",
       "      <td>1.001364</td>\n",
       "      <td>-0.535711</td>\n",
       "      <td>0.162250</td>\n",
       "      <td>-0.241345</td>\n",
       "      <td>0.032084</td>\n",
       "      <td>1.102031</td>\n",
       "      <td>0.766794</td>\n",
       "      <td>-0.434577</td>\n",
       "    </tr>\n",
       "    <tr>\n",
       "      <th>soseki_eijitsu.txt</th>\n",
       "      <td>-0.955500</td>\n",
       "      <td>0.269479</td>\n",
       "      <td>-0.930803</td>\n",
       "      <td>2.299126</td>\n",
       "      <td>-0.352929</td>\n",
       "      <td>-0.447491</td>\n",
       "      <td>0.942061</td>\n",
       "      <td>1.704878</td>\n",
       "    </tr>\n",
       "    <tr>\n",
       "      <th>soseki_garasu.txt</th>\n",
       "      <td>-1.138956</td>\n",
       "      <td>-1.626614</td>\n",
       "      <td>-0.999119</td>\n",
       "      <td>-0.851058</td>\n",
       "      <td>-0.352929</td>\n",
       "      <td>-0.500923</td>\n",
       "      <td>-1.161145</td>\n",
       "      <td>-0.702009</td>\n",
       "    </tr>\n",
       "    <tr>\n",
       "      <th>soseki_omoidasu.txt</th>\n",
       "      <td>-0.527436</td>\n",
       "      <td>-0.795450</td>\n",
       "      <td>-0.315961</td>\n",
       "      <td>-0.597011</td>\n",
       "      <td>-0.930449</td>\n",
       "      <td>-0.340628</td>\n",
       "      <td>0.240992</td>\n",
       "      <td>-1.370588</td>\n",
       "    </tr>\n",
       "    <tr>\n",
       "      <th>soseki_yume.txt</th>\n",
       "      <td>-0.833196</td>\n",
       "      <td>0.139610</td>\n",
       "      <td>-0.862488</td>\n",
       "      <td>0.012702</td>\n",
       "      <td>-0.481267</td>\n",
       "      <td>-1.409264</td>\n",
       "      <td>-0.635344</td>\n",
       "      <td>0.768867</td>\n",
       "    </tr>\n",
       "  </tbody>\n",
       "</table>\n",
       "</div>"
      ],
      "text/plain": [
       "                           が、        て、        で、        と、        に、  \\\n",
       "ogai_gan.txt         1.184820  0.892852  1.118672  0.317559  0.545436   \n",
       "ogai_kanoyoni.txt    1.184820  1.594146  0.093934 -0.342964  2.213827   \n",
       "ogai_niwatori.txt    0.084084  0.061688  1.733515 -0.597011 -0.673773   \n",
       "ogai_vita.txt        1.001364 -0.535711  0.162250 -0.241345  0.032084   \n",
       "soseki_eijitsu.txt  -0.955500  0.269479 -0.930803  2.299126 -0.352929   \n",
       "soseki_garasu.txt   -1.138956 -1.626614 -0.999119 -0.851058 -0.352929   \n",
       "soseki_omoidasu.txt -0.527436 -0.795450 -0.315961 -0.597011 -0.930449   \n",
       "soseki_yume.txt     -0.833196  0.139610 -0.862488  0.012702 -0.481267   \n",
       "\n",
       "                           は、        も、        ら、  \n",
       "ogai_gan.txt         1.315758 -1.161145  0.768867  \n",
       "ogai_kanoyoni.txt    0.995167  1.467863 -0.568293  \n",
       "ogai_niwatori.txt   -0.714650 -0.460076 -0.167145  \n",
       "ogai_vita.txt        1.102031  0.766794 -0.434577  \n",
       "soseki_eijitsu.txt  -0.447491  0.942061  1.704878  \n",
       "soseki_garasu.txt   -0.500923 -1.161145 -0.702009  \n",
       "soseki_omoidasu.txt -0.340628  0.240992 -1.370588  \n",
       "soseki_yume.txt     -1.409264 -0.635344  0.768867  "
      ]
     },
     "execution_count": 57,
     "metadata": {},
     "output_type": "execute_result"
    }
   ],
   "source": [
    "bigrams_std = bigrams_df.apply(lambda x: (x - x.mean()) / x.std(), axis = 0)\n",
    "bigrams_std"
   ]
  },
  {
   "cell_type": "markdown",
   "metadata": {},
   "source": [
    "\n",
    "\n",
    "\n",
    "### ラムダ式\n",
    "\n",
    "Python においてラムダ式は **無名関数** とも言われます。\n",
    "標準化の処理であれば、以下のように関数をあらかじめ作成してから `apply()` を適用することも考えられたでしょう。\n"
   ]
  },
  {
   "cell_type": "code",
   "execution_count": 58,
   "metadata": {},
   "outputs": [],
   "source": [
    "def standard(x):\n",
    "    return (x - x.mean())/ x.std()\n",
    "\n",
    "bigrams_std = bigrams_df.apply(standard, axis = 0)"
   ]
  },
  {
   "cell_type": "code",
   "execution_count": 59,
   "metadata": {},
   "outputs": [
    {
     "data": {
      "text/html": [
       "<div>\n",
       "<style scoped>\n",
       "    .dataframe tbody tr th:only-of-type {\n",
       "        vertical-align: middle;\n",
       "    }\n",
       "\n",
       "    .dataframe tbody tr th {\n",
       "        vertical-align: top;\n",
       "    }\n",
       "\n",
       "    .dataframe thead th {\n",
       "        text-align: right;\n",
       "    }\n",
       "</style>\n",
       "<table border=\"1\" class=\"dataframe\">\n",
       "  <thead>\n",
       "    <tr style=\"text-align: right;\">\n",
       "      <th></th>\n",
       "      <th>て、</th>\n",
       "      <th>と、</th>\n",
       "      <th>に、</th>\n",
       "      <th>は、</th>\n",
       "      <th>も、</th>\n",
       "      <th>ら、</th>\n",
       "    </tr>\n",
       "  </thead>\n",
       "  <tbody>\n",
       "    <tr>\n",
       "      <th>ogai_gan.txt</th>\n",
       "      <td>0.892852</td>\n",
       "      <td>0.317559</td>\n",
       "      <td>0.545436</td>\n",
       "      <td>1.315758</td>\n",
       "      <td>-1.161145</td>\n",
       "      <td>0.768867</td>\n",
       "    </tr>\n",
       "    <tr>\n",
       "      <th>ogai_kanoyoni.txt</th>\n",
       "      <td>1.594146</td>\n",
       "      <td>-0.342964</td>\n",
       "      <td>2.213827</td>\n",
       "      <td>0.995167</td>\n",
       "      <td>1.467863</td>\n",
       "      <td>-0.568293</td>\n",
       "    </tr>\n",
       "    <tr>\n",
       "      <th>ogai_niwatori.txt</th>\n",
       "      <td>0.061688</td>\n",
       "      <td>-0.597011</td>\n",
       "      <td>-0.673773</td>\n",
       "      <td>-0.714650</td>\n",
       "      <td>-0.460076</td>\n",
       "      <td>-0.167145</td>\n",
       "    </tr>\n",
       "    <tr>\n",
       "      <th>ogai_vita.txt</th>\n",
       "      <td>-0.535711</td>\n",
       "      <td>-0.241345</td>\n",
       "      <td>0.032084</td>\n",
       "      <td>1.102031</td>\n",
       "      <td>0.766794</td>\n",
       "      <td>-0.434577</td>\n",
       "    </tr>\n",
       "    <tr>\n",
       "      <th>soseki_eijitsu.txt</th>\n",
       "      <td>0.269479</td>\n",
       "      <td>2.299126</td>\n",
       "      <td>-0.352929</td>\n",
       "      <td>-0.447491</td>\n",
       "      <td>0.942061</td>\n",
       "      <td>1.704878</td>\n",
       "    </tr>\n",
       "    <tr>\n",
       "      <th>soseki_garasu.txt</th>\n",
       "      <td>-1.626614</td>\n",
       "      <td>-0.851058</td>\n",
       "      <td>-0.352929</td>\n",
       "      <td>-0.500923</td>\n",
       "      <td>-1.161145</td>\n",
       "      <td>-0.702009</td>\n",
       "    </tr>\n",
       "    <tr>\n",
       "      <th>soseki_omoidasu.txt</th>\n",
       "      <td>-0.795450</td>\n",
       "      <td>-0.597011</td>\n",
       "      <td>-0.930449</td>\n",
       "      <td>-0.340628</td>\n",
       "      <td>0.240992</td>\n",
       "      <td>-1.370588</td>\n",
       "    </tr>\n",
       "    <tr>\n",
       "      <th>soseki_yume.txt</th>\n",
       "      <td>0.139610</td>\n",
       "      <td>0.012702</td>\n",
       "      <td>-0.481267</td>\n",
       "      <td>-1.409264</td>\n",
       "      <td>-0.635344</td>\n",
       "      <td>0.768867</td>\n",
       "    </tr>\n",
       "  </tbody>\n",
       "</table>\n",
       "</div>"
      ],
      "text/plain": [
       "                           て、        と、        に、        は、        も、  \\\n",
       "ogai_gan.txt         0.892852  0.317559  0.545436  1.315758 -1.161145   \n",
       "ogai_kanoyoni.txt    1.594146 -0.342964  2.213827  0.995167  1.467863   \n",
       "ogai_niwatori.txt    0.061688 -0.597011 -0.673773 -0.714650 -0.460076   \n",
       "ogai_vita.txt       -0.535711 -0.241345  0.032084  1.102031  0.766794   \n",
       "soseki_eijitsu.txt   0.269479  2.299126 -0.352929 -0.447491  0.942061   \n",
       "soseki_garasu.txt   -1.626614 -0.851058 -0.352929 -0.500923 -1.161145   \n",
       "soseki_omoidasu.txt -0.795450 -0.597011 -0.930449 -0.340628  0.240992   \n",
       "soseki_yume.txt      0.139610  0.012702 -0.481267 -1.409264 -0.635344   \n",
       "\n",
       "                           ら、  \n",
       "ogai_gan.txt         0.768867  \n",
       "ogai_kanoyoni.txt   -0.568293  \n",
       "ogai_niwatori.txt   -0.167145  \n",
       "ogai_vita.txt       -0.434577  \n",
       "soseki_eijitsu.txt   1.704878  \n",
       "soseki_garasu.txt   -0.702009  \n",
       "soseki_omoidasu.txt -1.370588  \n",
       "soseki_yume.txt      0.768867  "
      ]
     },
     "execution_count": 59,
     "metadata": {},
     "output_type": "execute_result"
    }
   ],
   "source": [
    "writers_6var = bigrams_df.drop(['が、', 'で、'], axis=1)\n",
    "writers_std = writers_6var.apply(lambda x: (x - x.mean()) / x.std(), axis = 0)\n",
    "writers_std"
   ]
  },
  {
   "cell_type": "markdown",
   "metadata": {},
   "source": [
    "\n",
    "データが標準化されていることを確認しましょう。`apply()`には複数の関数をリストの形式で指定できます。"
   ]
  },
  {
   "cell_type": "code",
   "execution_count": 60,
   "metadata": {},
   "outputs": [
    {
     "data": {
      "text/html": [
       "<div>\n",
       "<style scoped>\n",
       "    .dataframe tbody tr th:only-of-type {\n",
       "        vertical-align: middle;\n",
       "    }\n",
       "\n",
       "    .dataframe tbody tr th {\n",
       "        vertical-align: top;\n",
       "    }\n",
       "\n",
       "    .dataframe thead th {\n",
       "        text-align: right;\n",
       "    }\n",
       "</style>\n",
       "<table border=\"1\" class=\"dataframe\">\n",
       "  <thead>\n",
       "    <tr style=\"text-align: right;\">\n",
       "      <th></th>\n",
       "      <th>て、</th>\n",
       "      <th>と、</th>\n",
       "      <th>に、</th>\n",
       "      <th>は、</th>\n",
       "      <th>も、</th>\n",
       "      <th>ら、</th>\n",
       "    </tr>\n",
       "  </thead>\n",
       "  <tbody>\n",
       "    <tr>\n",
       "      <th>mean</th>\n",
       "      <td>0.0</td>\n",
       "      <td>0.0</td>\n",
       "      <td>5.551115e-17</td>\n",
       "      <td>0.0</td>\n",
       "      <td>0.0</td>\n",
       "      <td>1.387779e-17</td>\n",
       "    </tr>\n",
       "    <tr>\n",
       "      <th>std</th>\n",
       "      <td>1.0</td>\n",
       "      <td>1.0</td>\n",
       "      <td>1.000000e+00</td>\n",
       "      <td>1.0</td>\n",
       "      <td>1.0</td>\n",
       "      <td>1.000000e+00</td>\n",
       "    </tr>\n",
       "  </tbody>\n",
       "</table>\n",
       "</div>"
      ],
      "text/plain": [
       "       て、   と、            に、   は、   も、            ら、\n",
       "mean  0.0  0.0  5.551115e-17  0.0  0.0  1.387779e-17\n",
       "std   1.0  1.0  1.000000e+00  1.0  1.0  1.000000e+00"
      ]
     },
     "execution_count": 60,
     "metadata": {},
     "output_type": "execute_result"
    }
   ],
   "source": [
    "import numpy as np\n",
    "writers_std.apply([np.mean, np.std], axis=0)"
   ]
  },
  {
   "cell_type": "markdown",
   "metadata": {},
   "source": [
    "\n",
    "\n",
    "\n",
    "\n",
    "### scikit-learnライブラリの手順\n",
    "\n",
    "Python のデータ分析では、scikit-learnライブラリを使う機会が多くなります。scikit-learn はさまざまな分析手法に対応していますが、\n",
    "データを扱い、分析用関数を適用する手順には共通性があります。\n",
    "\n",
    "\n"
   ]
  },
  {
   "cell_type": "code",
   "execution_count": 61,
   "metadata": {},
   "outputs": [
    {
     "data": {
      "text/html": [
       "<div>\n",
       "<style scoped>\n",
       "    .dataframe tbody tr th:only-of-type {\n",
       "        vertical-align: middle;\n",
       "    }\n",
       "\n",
       "    .dataframe tbody tr th {\n",
       "        vertical-align: top;\n",
       "    }\n",
       "\n",
       "    .dataframe thead th {\n",
       "        text-align: right;\n",
       "    }\n",
       "</style>\n",
       "<table border=\"1\" class=\"dataframe\">\n",
       "  <thead>\n",
       "    <tr style=\"text-align: right;\">\n",
       "      <th></th>\n",
       "      <th>て、</th>\n",
       "      <th>と、</th>\n",
       "      <th>に、</th>\n",
       "      <th>は、</th>\n",
       "      <th>も、</th>\n",
       "      <th>ら、</th>\n",
       "    </tr>\n",
       "  </thead>\n",
       "  <tbody>\n",
       "    <tr>\n",
       "      <th>ogai_gan.txt</th>\n",
       "      <td>0.954499</td>\n",
       "      <td>0.339485</td>\n",
       "      <td>0.583095</td>\n",
       "      <td>1.406605</td>\n",
       "      <td>-1.241317</td>\n",
       "      <td>0.821953</td>\n",
       "    </tr>\n",
       "    <tr>\n",
       "      <th>ogai_kanoyoni.txt</th>\n",
       "      <td>1.704214</td>\n",
       "      <td>-0.366643</td>\n",
       "      <td>2.366680</td>\n",
       "      <td>1.063879</td>\n",
       "      <td>1.569211</td>\n",
       "      <td>-0.607530</td>\n",
       "    </tr>\n",
       "    <tr>\n",
       "      <th>ogai_niwatori.txt</th>\n",
       "      <td>0.065947</td>\n",
       "      <td>-0.638231</td>\n",
       "      <td>-0.720294</td>\n",
       "      <td>-0.763993</td>\n",
       "      <td>-0.491842</td>\n",
       "      <td>-0.178685</td>\n",
       "    </tr>\n",
       "    <tr>\n",
       "      <th>ogai_vita.txt</th>\n",
       "      <td>-0.572699</td>\n",
       "      <td>-0.258008</td>\n",
       "      <td>0.034300</td>\n",
       "      <td>1.178121</td>\n",
       "      <td>0.819737</td>\n",
       "      <td>-0.464582</td>\n",
       "    </tr>\n",
       "    <tr>\n",
       "      <th>soseki_eijitsu.txt</th>\n",
       "      <td>0.288085</td>\n",
       "      <td>2.457869</td>\n",
       "      <td>-0.377297</td>\n",
       "      <td>-0.478388</td>\n",
       "      <td>1.007106</td>\n",
       "      <td>1.822591</td>\n",
       "    </tr>\n",
       "    <tr>\n",
       "      <th>soseki_garasu.txt</th>\n",
       "      <td>-1.738923</td>\n",
       "      <td>-0.909819</td>\n",
       "      <td>-0.377297</td>\n",
       "      <td>-0.535509</td>\n",
       "      <td>-1.241317</td>\n",
       "      <td>-0.750479</td>\n",
       "    </tr>\n",
       "    <tr>\n",
       "      <th>soseki_omoidasu.txt</th>\n",
       "      <td>-0.850372</td>\n",
       "      <td>-0.638231</td>\n",
       "      <td>-0.994692</td>\n",
       "      <td>-0.364146</td>\n",
       "      <td>0.257632</td>\n",
       "      <td>-1.465220</td>\n",
       "    </tr>\n",
       "    <tr>\n",
       "      <th>soseki_yume.txt</th>\n",
       "      <td>0.149249</td>\n",
       "      <td>0.013579</td>\n",
       "      <td>-0.514496</td>\n",
       "      <td>-1.506566</td>\n",
       "      <td>-0.679211</td>\n",
       "      <td>0.821953</td>\n",
       "    </tr>\n",
       "  </tbody>\n",
       "</table>\n",
       "</div>"
      ],
      "text/plain": [
       "                           て、        と、        に、        は、        も、  \\\n",
       "ogai_gan.txt         0.954499  0.339485  0.583095  1.406605 -1.241317   \n",
       "ogai_kanoyoni.txt    1.704214 -0.366643  2.366680  1.063879  1.569211   \n",
       "ogai_niwatori.txt    0.065947 -0.638231 -0.720294 -0.763993 -0.491842   \n",
       "ogai_vita.txt       -0.572699 -0.258008  0.034300  1.178121  0.819737   \n",
       "soseki_eijitsu.txt   0.288085  2.457869 -0.377297 -0.478388  1.007106   \n",
       "soseki_garasu.txt   -1.738923 -0.909819 -0.377297 -0.535509 -1.241317   \n",
       "soseki_omoidasu.txt -0.850372 -0.638231 -0.994692 -0.364146  0.257632   \n",
       "soseki_yume.txt      0.149249  0.013579 -0.514496 -1.506566 -0.679211   \n",
       "\n",
       "                           ら、  \n",
       "ogai_gan.txt         0.821953  \n",
       "ogai_kanoyoni.txt   -0.607530  \n",
       "ogai_niwatori.txt   -0.178685  \n",
       "ogai_vita.txt       -0.464582  \n",
       "soseki_eijitsu.txt   1.822591  \n",
       "soseki_garasu.txt   -0.750479  \n",
       "soseki_omoidasu.txt -1.465220  \n",
       "soseki_yume.txt      0.821953  "
      ]
     },
     "execution_count": 61,
     "metadata": {},
     "output_type": "execute_result"
    }
   ],
   "source": [
    "## 必要なモジュールの読み込み\n",
    "from sklearn.preprocessing import StandardScaler\n",
    "## モジュールの初期化\n",
    "std_sc = StandardScaler()\n",
    "## データへの当てはめ\n",
    "std_sc.fit(writers_6var)\n",
    "## 実際に標準化を実行\n",
    "std_writers = std_sc.transform(writers_6var)\n",
    "## 確認しやすいようにデータフレームに変換\n",
    "std_writers_df = pd.DataFrame(std_writers,\n",
    "                              columns = writers_6var.columns,\n",
    "                              index=writers_6var.index)\n",
    "std_writers_df"
   ]
  },
  {
   "cell_type": "markdown",
   "metadata": {},
   "source": [
    "\n",
    "\n",
    "### 主成分分析の実行\n",
    "\n",
    "それでは、標準化したデータに主成分分析を適用してみましょう。 scikitlearn の `PCA` モジュールを読み込んで初期化し、データに適用します。\n"
   ]
  },
  {
   "cell_type": "code",
   "execution_count": 62,
   "metadata": {},
   "outputs": [
    {
     "data": {
      "text/html": [
       "<div>\n",
       "<style scoped>\n",
       "    .dataframe tbody tr th:only-of-type {\n",
       "        vertical-align: middle;\n",
       "    }\n",
       "\n",
       "    .dataframe tbody tr th {\n",
       "        vertical-align: top;\n",
       "    }\n",
       "\n",
       "    .dataframe thead th {\n",
       "        text-align: right;\n",
       "    }\n",
       "</style>\n",
       "<table border=\"1\" class=\"dataframe\">\n",
       "  <thead>\n",
       "    <tr style=\"text-align: right;\">\n",
       "      <th></th>\n",
       "      <th>PC1</th>\n",
       "      <th>PC2</th>\n",
       "      <th>PC3</th>\n",
       "      <th>PC4</th>\n",
       "      <th>PC5</th>\n",
       "      <th>PC6</th>\n",
       "    </tr>\n",
       "  </thead>\n",
       "  <tbody>\n",
       "    <tr>\n",
       "      <th>ogai_gan.txt</th>\n",
       "      <td>1.177384</td>\n",
       "      <td>0.172596</td>\n",
       "      <td>1.895023</td>\n",
       "      <td>-0.685580</td>\n",
       "      <td>-0.266629</td>\n",
       "      <td>-0.114389</td>\n",
       "    </tr>\n",
       "    <tr>\n",
       "      <th>ogai_kanoyoni.txt</th>\n",
       "      <td>2.903319</td>\n",
       "      <td>-1.834744</td>\n",
       "      <td>-0.293250</td>\n",
       "      <td>0.808681</td>\n",
       "      <td>0.252589</td>\n",
       "      <td>-0.063250</td>\n",
       "    </tr>\n",
       "    <tr>\n",
       "      <th>ogai_niwatori.txt</th>\n",
       "      <td>-1.055168</td>\n",
       "      <td>0.063285</td>\n",
       "      <td>0.203755</td>\n",
       "      <td>0.648058</td>\n",
       "      <td>-0.442675</td>\n",
       "      <td>0.114862</td>\n",
       "    </tr>\n",
       "    <tr>\n",
       "      <th>ogai_vita.txt</th>\n",
       "      <td>0.310709</td>\n",
       "      <td>-0.981240</td>\n",
       "      <td>-0.652978</td>\n",
       "      <td>-1.028880</td>\n",
       "      <td>-0.071364</td>\n",
       "      <td>0.349377</td>\n",
       "    </tr>\n",
       "    <tr>\n",
       "      <th>soseki_eijitsu.txt</th>\n",
       "      <td>1.320118</td>\n",
       "      <td>2.828413</td>\n",
       "      <td>-0.954692</td>\n",
       "      <td>-0.379717</td>\n",
       "      <td>0.152317</td>\n",
       "      <td>-0.099849</td>\n",
       "    </tr>\n",
       "    <tr>\n",
       "      <th>soseki_garasu.txt</th>\n",
       "      <td>-2.270792</td>\n",
       "      <td>-0.646225</td>\n",
       "      <td>0.390095</td>\n",
       "      <td>-0.316244</td>\n",
       "      <td>0.742960</td>\n",
       "      <td>-0.080967</td>\n",
       "    </tr>\n",
       "    <tr>\n",
       "      <th>soseki_omoidasu.txt</th>\n",
       "      <td>-1.538758</td>\n",
       "      <td>-0.911874</td>\n",
       "      <td>-0.991922</td>\n",
       "      <td>-0.077406</td>\n",
       "      <td>-0.449078</td>\n",
       "      <td>-0.273622</td>\n",
       "    </tr>\n",
       "    <tr>\n",
       "      <th>soseki_yume.txt</th>\n",
       "      <td>-0.846811</td>\n",
       "      <td>1.309789</td>\n",
       "      <td>0.403968</td>\n",
       "      <td>1.031088</td>\n",
       "      <td>0.081881</td>\n",
       "      <td>0.167838</td>\n",
       "    </tr>\n",
       "  </tbody>\n",
       "</table>\n",
       "</div>"
      ],
      "text/plain": [
       "                          PC1       PC2       PC3       PC4       PC5  \\\n",
       "ogai_gan.txt         1.177384  0.172596  1.895023 -0.685580 -0.266629   \n",
       "ogai_kanoyoni.txt    2.903319 -1.834744 -0.293250  0.808681  0.252589   \n",
       "ogai_niwatori.txt   -1.055168  0.063285  0.203755  0.648058 -0.442675   \n",
       "ogai_vita.txt        0.310709 -0.981240 -0.652978 -1.028880 -0.071364   \n",
       "soseki_eijitsu.txt   1.320118  2.828413 -0.954692 -0.379717  0.152317   \n",
       "soseki_garasu.txt   -2.270792 -0.646225  0.390095 -0.316244  0.742960   \n",
       "soseki_omoidasu.txt -1.538758 -0.911874 -0.991922 -0.077406 -0.449078   \n",
       "soseki_yume.txt     -0.846811  1.309789  0.403968  1.031088  0.081881   \n",
       "\n",
       "                          PC6  \n",
       "ogai_gan.txt        -0.114389  \n",
       "ogai_kanoyoni.txt   -0.063250  \n",
       "ogai_niwatori.txt    0.114862  \n",
       "ogai_vita.txt        0.349377  \n",
       "soseki_eijitsu.txt  -0.099849  \n",
       "soseki_garasu.txt   -0.080967  \n",
       "soseki_omoidasu.txt -0.273622  \n",
       "soseki_yume.txt      0.167838  "
      ]
     },
     "execution_count": 62,
     "metadata": {},
     "output_type": "execute_result"
    }
   ],
   "source": [
    "from sklearn.decomposition import PCA \n",
    "## 主成分分析モジュールを初期化\n",
    "pca = PCA()\n",
    "##  データに適用\n",
    "pca.fit(std_writers_df)\n",
    "##  分析を実行\n",
    "writers_pca = pca.transform(std_writers_df)\n",
    "##  主成分得点を表示するためデータフレームに\n",
    "writers_pca_df = pd.DataFrame(writers_pca, columns=[\"PC{}\".format(x + 1) for x in range(len(std_writers_df.columns))], index=std_writers_df.index)\n",
    "writers_pca_df"
   ]
  },
  {
   "cell_type": "code",
   "execution_count": 63,
   "metadata": {},
   "outputs": [
    {
     "data": {
      "text/plain": [
       "array([0.43769753, 0.31932291, 0.13241066, 0.081581  , 0.02332316,\n",
       "       0.00566473])"
      ]
     },
     "execution_count": 63,
     "metadata": {},
     "output_type": "execute_result"
    }
   ],
   "source": [
    "pca.explained_variance_ratio_"
   ]
  },
  {
   "cell_type": "code",
   "execution_count": 64,
   "metadata": {},
   "outputs": [
    {
     "data": {
      "image/png": "[encoded data removed]",
      "text/plain": [
       "<Figure size 640x480 with 1 Axes>"
      ]
     },
     "metadata": {},
     "output_type": "display_data"
    }
   ],
   "source": [
    "%matplotlib inline\n",
    "import matplotlib.pyplot as plt\n",
    "import seaborn as sns\n",
    "sns.set(style='darkgrid')\n",
    "## 日本語を表示する準備\n",
    "from matplotlib import rcParams\n",
    "rcParams['font.family'] = 'sans-serif'\n",
    "rcParams['font.sans-serif'] = ['Hiragino Maru Gothic Pro', 'Yu Gothic', 'Meirio', 'Takao', 'IPAexGothic', 'IPAPGothic', 'VL PGothic', 'Noto Sans CJK JP']\n",
    "lbls = ['鴎外','鴎外','鴎外', '鴎外', '漱石', '漱石', '漱石', '漱石']\n",
    "## 散布図を作成\n",
    "ax = sns.scatterplot(data=writers_pca_df, x='PC1', y='PC2', style=lbls, hue=lbls)\n",
    "## データ点に作品名を付記\n",
    "for i, point in writers_pca_df.iterrows():\n",
    "    ax.text(point['PC1'], point['PC2'], i)"
   ]
  },
  {
   "cell_type": "markdown",
   "metadata": {},
   "source": [
    "\n",
    "おおむね左下に漱石が、また右上に鴎外が集まっています。\n"
   ]
  },
  {
   "cell_type": "code",
   "execution_count": 65,
   "metadata": {},
   "outputs": [
    {
     "name": "stdout",
     "output_type": "stream",
     "text": [
      "           て、        と、        に、        は、        も、        ら、\n",
      "PC1  0.539534  0.295570  0.507076  0.396854  0.390066  0.234032\n",
      "PC2  0.033505  0.592638 -0.320407 -0.362863 -0.091515  0.636359\n",
      "PC3  0.259113 -0.200384  0.194097  0.224841 -0.853345  0.276190\n",
      "PC4  0.514826 -0.321653  0.209694 -0.762399  0.063264 -0.047607\n",
      "PC5 -0.595187  0.092860  0.737392 -0.252565 -0.047876  0.165232\n",
      "PC6 -0.146107 -0.639673 -0.121745  0.123457  0.324007  0.659111\n"
     ]
    }
   ],
   "source": [
    "print(pd.DataFrame(pca.components_,\n",
    "                   columns=std_writers_df.columns,\n",
    "                   index=[\"PC{}\".format(x + 1) for x in range(len(std_writers_df.columns))]))"
   ]
  },
  {
   "cell_type": "markdown",
   "metadata": {},
   "source": [
    "\n",
    "## 文章の正規化\n",
    "\n",
    "文章を解析してデータとして利用しようとする場合、実は辞書を整備するだけでは十分ではありません。たとえば、ある文章で西暦が「２０２１年」や「2021年」、「2,021年」と、3 種類の表記が現れていたとします。しかし、この3つの表記に「意味的」な違いはあるでしょうか？恐らくはないでしょう。そこで「２０２１年」や「2021年」、「2,021年」がそれぞれ1回出現したとカウントするよりは、「2021年」の統一して3回出現したとするほうが合理的ではないでしょうか。またアルファベットや数字は全角で「ＡＢＣ１２３」、半角で「ABC123」と表示されます。意味は同じであるはずですが、コンピュータ内部では全く別の文字列として扱われます。他に、日本語のフォントには特殊な記号が用意されており、「印」には「㊞」という文字もあります。\n",
    "\n",
    "さらに複雑なのは結合文字です。「ドラえもん」の「ド」は1文字なのですが、実は Mac でファイル名に日本語を使うと、「ド」は「ト」と「濁点」の**2文字**で表現されます。Windowsでは1文字です。Mac ないし Linux であれば、ターミナルで以下のように実行すると、その違い（あるいは表示が同じになること）が確認できます(`\\U`と数値アルファベットで表されているのが1文字相当し、1行目の `\\U30C9` は'ド'を、2行目の`\\U30C8\\U3099`が、'ト'と'濁音'を表しています)。\n",
    "\n",
    "```\n",
    "echo -e \"\\U30C9ラえもん\\n\"\n",
    "echo -e \"\\U30C8\\U3099ラえもん\\n\"\n",
    "```\n",
    "\n"
   ]
  },
  {
   "cell_type": "code",
   "execution_count": 66,
   "metadata": {},
   "outputs": [
    {
     "name": "stdout",
     "output_type": "stream",
     "text": [
      "この印は１６８０円です。\n",
      "この印は1680円です。\n",
      "この㊞は１６８０円です。\n",
      "この印は1680円です。\n",
      "この印は￥1680です。（全角の￥）\n",
      "この印は¥1680です。(全角の¥)\n",
      "この印は1680ｴﾝです。\n",
      "この印は1680エンです。\n"
     ]
    }
   ],
   "source": [
    "import unicodedata\n",
    "text ='この印は１６８０円です。'\n",
    "print(text)\n",
    "print(unicodedata.normalize('NFKC', text))\n",
    "text = 'この㊞は１６８０円です。'\n",
    "print(text)\n",
    "print(unicodedata.normalize('NFKC', text))\n",
    "text = 'この印は￥1680です。（全角の￥）'\n",
    "print(text)\n",
    "print(unicodedata.normalize('NFKC', text))\n",
    "text = 'この印は1680ｴﾝです。'\n",
    "print(text)\n",
    "print(unicodedata.normalize('NFKC', text))"
   ]
  },
  {
   "cell_type": "code",
   "execution_count": 67,
   "metadata": {},
   "outputs": [
    {
     "name": "stdout",
     "output_type": "stream",
     "text": [
      "(有)\n",
      "1⁄4\n"
     ]
    }
   ],
   "source": [
    "text ='㈲'\n",
    "print(unicodedata.normalize('NFKC', text))\n",
    "text ='¼'\n",
    "print(unicodedata.normalize('NFKC', text))"
   ]
  },
  {
   "cell_type": "markdown",
   "metadata": {},
   "source": [
    "### 絵文字の扱い\n",
    "\n",
    "SNSでは **絵文字** が多用されますが、この扱いもテキストをデータとする場合には考慮が必要です。\n",
    "`conda install emoji` あるいは `pip install emoji` としてライブラリを導入しておきます。\n"
   ]
  },
  {
   "cell_type": "code",
   "execution_count": 69,
   "metadata": {},
   "outputs": [
    {
     "name": "stdout",
     "output_type": "stream",
     "text": [
      "Defaulting to user installation because normal site-packages is not writeable\n",
      "Collecting emoji\n",
      "  Downloading emoji-2.0.0.tar.gz (197 kB)\n",
      "\u001b[2K     \u001b[38;2;114;156;31m━━━━━━━━━━━━━━━━━━━━━━━━━━━━━━━━━━━━━━━\u001b[0m \u001b[32m197.3/197.3 KB\u001b[0m \u001b[31m3.4 MB/s\u001b[0m eta \u001b[36m0:00:00\u001b[0m[31m2.7 MB/s\u001b[0m eta \u001b[36m0:00:01\u001b[0m\n",
      "\u001b[?25h  Preparing metadata (setup.py) ... \u001b[?25ldone\n",
      "\u001b[?25hBuilding wheels for collected packages: emoji\n",
      "  Building wheel for emoji (setup.py) ... \u001b[?25ldone\n",
      "\u001b[?25h  Created wheel for emoji: filename=emoji-2.0.0-py3-none-any.whl size=193023 sha256=7690e4e374b8a06a6cc6215a0694b02a11711592707f57ad3f7dbe0aa36dd418\n",
      "  Stored in directory: /home/ishida/.cache/pip/wheels/c8/2c/41/e935a3b76761ed7e34979b438c80037a0ae12b3e0b02ba8463\n",
      "Successfully built emoji\n",
      "Installing collected packages: emoji\n",
      "Successfully installed emoji-2.0.0\n"
     ]
    }
   ],
   "source": [
    "!pip install emoji"
   ]
  },
  {
   "cell_type": "code",
   "execution_count": 73,
   "metadata": {},
   "outputs": [
    {
     "name": "stdout",
     "output_type": "stream",
     "text": [
      "emojis = 🤗⭕🤓🤔🤘🦁⭐🆗🆖🈲🤐🤗🤖🤑🆙⏩\n",
      "絵文字を削除\n",
      "emojis = \n"
     ]
    }
   ],
   "source": [
    "import emoji\n",
    "## 絵文字をいくつか用意\n",
    "emoji_letters = 'emojis = 🤗⭕🤓🤔🤘🦁⭐🆗🆖🈲🤐🤗🤖🤑🆙⏩'\n",
    "print(emoji_letters)\n",
    "## 以下は最新の emoji では動作しなくなりました\n",
    "#def remove_emoji(chars):\n",
    "#    return ''.join(c for c in chars if c not in emoji.UNICODE_EMOJI['en'])\n",
    "## 以下に変えて実行します\n",
    "def remove_emoji(chars):\n",
    "    return ''.join(c for c in chars if c not in emoji.EMOJI_DATA)\n",
    "print('絵文字を削除')\n",
    "print(remove_emoji(emoji_letters))"
   ]
  },
  {
   "cell_type": "markdown",
   "metadata": {},
   "source": [
    "ちなみに、該当する絵文字の説明文章は以下のよう emoji ライブラリや unicodedata ライブラリを使って取り出せます。"
   ]
  },
  {
   "cell_type": "code",
   "execution_count": 76,
   "metadata": {},
   "outputs": [
    {
     "name": "stdout",
     "output_type": "stream",
     "text": [
      "{'en': ':smiling_face_with_open_hands:', 'status': 2, 'E': 1, 'alias': [':hugging_face:', ':hugs:'], 'de': ':gesicht_mit_umarmenden_händen:', 'es': ':cara_con_manos_abrazando:', 'fr': ':visage_qui_fait_un_câlin:', 'pt': ':rosto_abraçando:', 'it': ':faccina_che_abbraccia:'}\n"
     ]
    }
   ],
   "source": [
    "## 以下は最新の emoji では動作しなくなりました\n",
    "# print(emoji.UNICODE_EMOJI['en']['🤗'])\n",
    "## 以下に変えて実行します\n",
    "print(emoji.EMOJI_DATA['🤗'])"
   ]
  },
  {
   "cell_type": "code",
   "execution_count": 77,
   "metadata": {},
   "outputs": [
    {
     "name": "stdout",
     "output_type": "stream",
     "text": [
      "HUGGING FACE\n"
     ]
    }
   ],
   "source": [
    "print(unicodedata.name('🤗'))"
   ]
  },
  {
   "cell_type": "markdown",
   "metadata": {},
   "source": [
    "demojiというライブラリを使って説明を表示させることもできます（入力した絵文字の順番と出力される順が異なります）。"
   ]
  },
  {
   "cell_type": "code",
   "execution_count": 79,
   "metadata": {},
   "outputs": [
    {
     "name": "stdout",
     "output_type": "stream",
     "text": [
      "Defaulting to user installation because normal site-packages is not writeable\n",
      "Collecting demoji\n",
      "  Downloading demoji-1.1.0-py3-none-any.whl (42 kB)\n",
      "\u001b[2K     \u001b[38;2;114;156;31m━━━━━━━━━━━━━━━━━━━━━━━━━━━━━━━━━━━━━━━━\u001b[0m \u001b[32m42.9/42.9 KB\u001b[0m \u001b[31m1.3 MB/s\u001b[0m eta \u001b[36m0:00:00\u001b[0m\n",
      "\u001b[?25hInstalling collected packages: demoji\n",
      "Successfully installed demoji-1.1.0\n"
     ]
    }
   ],
   "source": [
    "!pip install demoji"
   ]
  },
  {
   "cell_type": "code",
   "execution_count": 80,
   "metadata": {},
   "outputs": [
    {
     "data": {
      "text/plain": [
       "{'🤐': 'zipper-mouth face',\n",
       " '🦁': 'lion',\n",
       " '⭐': 'star',\n",
       " '🤓': 'nerd face',\n",
       " '🆗': 'OK button',\n",
       " '⏩': 'fast-forward button',\n",
       " '🤖': 'robot',\n",
       " '🤔': 'thinking face',\n",
       " '🆖': 'NG button',\n",
       " '🆙': 'UP! button',\n",
       " '🤘': 'sign of the horns',\n",
       " '🤗': 'hugging face',\n",
       " '⭕': 'hollow red circle',\n",
       " '🈲': 'Japanese “prohibited” button',\n",
       " '🤑': 'money-mouth face'}"
      ]
     },
     "execution_count": 80,
     "metadata": {},
     "output_type": "execute_result"
    }
   ],
   "source": [
    "import demoji\n",
    "emoji_letters = '🤗⭕🤓🤔🤘🦁⭐🆗🆖🈲🤐🤗🤖🤑🆙⏩'\n",
    "demoji.findall(emoji_letters)"
   ]
  },
  {
   "cell_type": "markdown",
   "metadata": {},
   "source": [
    "URLも置換すべき対象となるでしょう。\n",
    "\n",
    "[^remove_URL]: <https://ohke.hateblo.jp/entry/2019/02/09/141500>\n"
   ]
  },
  {
   "cell_type": "code",
   "execution_count": 81,
   "metadata": {},
   "outputs": [
    {
     "name": "stdout",
     "output_type": "stream",
     "text": [
      "日本語形態素解析をRで実行したい場合は URL を参照\n"
     ]
    }
   ],
   "source": [
    "import re\n",
    "text_with_url = '日本語形態素解析をRで実行したい場合は https://rmecab.jp/R を参照'\n",
    "print(re.sub(r'https?://[\\w/:%#\\$&\\?\\(\\)~\\.=\\+\\-]+', 'URL', text_with_url))"
   ]
  },
  {
   "cell_type": "markdown",
   "metadata": {},
   "source": [
    "他には、全角記号と半角記号の扱いも検討しなければならないかもしれません。また、「あああ〜」などの文字列を「あ〜」に縮めるなど、テキスト分析では、その目的などによってさまざまな処理が必要になります。先に紹介した「形態素解析前の日本語文書の前処理 (Python)」というページには、さまざまな前処理手順が紹介されていますので、一度、ご覧になってください。なお、このサイトの解説では、文字列の正規化に neologd というライブラリが使われています。"
   ]
  }
 ],
 "metadata": {
  "kernelspec": {
   "display_name": "Python 3 (ipykernel)",
   "language": "python",
   "name": "python3"
  },
  "language_info": {
   "codemirror_mode": {
    "name": "ipython",
    "version": 3
   },
   "file_extension": ".py",
   "mimetype": "text/x-python",
   "name": "python",
   "nbconvert_exporter": "python",
   "pygments_lexer": "ipython3",
   "version": "3.10.4"
  },
  "name": "Chapter02_learn_python.ipynb"
 },
 "nbformat": 4,
 "nbformat_minor": 4
}
