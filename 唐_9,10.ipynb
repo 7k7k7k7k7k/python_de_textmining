{
  "nbformat": 4,
  "nbformat_minor": 0,
  "metadata": {
    "colab": {
      "provenance": [],
      "authorship_tag": "ABX9TyNMMa+acjPB/+sMh5IQlT1b",
      "include_colab_link": true
    },
    "kernelspec": {
      "name": "python3",
      "display_name": "Python 3"
    },
    "language_info": {
      "name": "python"
    },
    "accelerator": "GPU",
    "gpuClass": "standard"
  },
  "cells": [
    {
      "cell_type": "markdown",
      "metadata": {
        "id": "view-in-github",
        "colab_type": "text"
      },
      "source": [
        "<a href=\"https://colab.research.google.com/github/7k7k7k7k7k/python_de_textmining/blob/main/%E5%94%90_9%2C10.ipynb\" target=\"_parent\"><img src=\"https://colab.research.google.com/assets/colab-badge.svg\" alt=\"Open In Colab\"/></a>"
      ]
    },
    {
      "cell_type": "code",
      "execution_count": null,
      "metadata": {
        "id": "uuTMFckXzh_Z"
      },
      "outputs": [],
      "source": [
        "# コードセルの中ではコメントも#で初めて書ける\n",
        "# 以下はGoogle Colabが動いている仮想マシンに今回使うPythonのライブラリ（spaCy）やそのモデルをダウンロードしてインストールする宣言\n",
        "!pip install spacy ginza fugashi\n",
        "!python -m spacy download en_core_web_lg\n",
        "import pkg_resources, imp\n",
        "imp.reload(pkg_resources)\n",
        "import spacy"
      ]
    },
    {
      "cell_type": "code",
      "source": [
        "nlp=spacy.load('en_core_web_sm')"
      ],
      "metadata": {
        "id": "Re5X5RU-0BGy"
      },
      "execution_count": 3,
      "outputs": []
    },
    {
      "cell_type": "code",
      "source": [
        "doc=nlp('Weather is good, very windy and sunny. We have no classes in the afternoon.')\n"
      ],
      "metadata": {
        "id": "Ig99R5i40aFn"
      },
      "execution_count": 4,
      "outputs": []
    },
    {
      "cell_type": "code",
      "source": [
        "#分词\n",
        "for token in doc:\n",
        "    print(token)"
      ],
      "metadata": {
        "id": "SIC8RMXs0yJ-"
      },
      "execution_count": null,
      "outputs": []
    },
    {
      "cell_type": "code",
      "source": [
        "#分句\n",
        "for sent in doc.sents:\n",
        "    print(sent)"
      ],
      "metadata": {
        "id": "Qp2-_ySq07gF"
      },
      "execution_count": null,
      "outputs": []
    },
    {
      "cell_type": "code",
      "source": [
        "for token in doc:\n",
        "    print ('{}-{}'.format(token,token.pos_))  #前面那个括号放的是词（token），后面那个括号放的是词性（token.pos_，代表的是词性）。"
      ],
      "metadata": {
        "id": "Baq4gX-M1B9n"
      },
      "execution_count": null,
      "outputs": []
    },
    {
      "cell_type": "code",
      "source": [
        "#命名体识别\n",
        "doc_2=nlp(\"It is the world's most populous country, with a population exceeding Japan, slightly ahead of yasukata. \")\n",
        "for ent in doc_2.ents:\n",
        "    print('{}-{}'.format(ent,ent.label))"
      ],
      "metadata": {
        "id": "tDKc7T9R1bh-"
      },
      "execution_count": null,
      "outputs": []
    },
    {
      "cell_type": "code",
      "source": [
        "from spacy import displacy #导入dispacy模块，可以将句子中命名部分识别出来\n",
        "doc_2=nlp(\"It is the world's most populous country, with a population exceeding Japan, slightly ahead of yasukata. \")\n",
        "displacy.render(doc_2,style='ent',jupyter=True)  #displacy.render是将句子doc_2导入，识别类型为ent，然后jupyter=True进行展示。"
      ],
      "metadata": {
        "colab": {
          "base_uri": "https://localhost:8080/",
          "height": 52
        },
        "id": "4G3iCU8s2bYH",
        "outputId": "22e49f4a-7041-4f91-84a0-3932305de1dc"
      },
      "execution_count": 11,
      "outputs": [
        {
          "output_type": "display_data",
          "data": {
            "text/plain": [
              "<IPython.core.display.HTML object>"
            ],
            "text/html": [
              "<span class=\"tex2jax_ignore\"><div class=\"entities\" style=\"line-height: 2.5; direction: ltr\">It is the world's most populous country, with a population exceeding \n",
              "<mark class=\"entity\" style=\"background: #feca74; padding: 0.45em 0.6em; margin: 0 0.25em; line-height: 1; border-radius: 0.35em;\">\n",
              "    Japan\n",
              "    <span style=\"font-size: 0.8em; font-weight: bold; line-height: 1; border-radius: 0.35em; vertical-align: middle; margin-left: 0.5rem\">GPE</span>\n",
              "</mark>\n",
              ", slightly ahead of yasukata. </div></span>"
            ]
          },
          "metadata": {}
        }
      ]
    },
    {
      "cell_type": "code",
      "source": [
        "#创建一个读取文件的函数：read_file  导入文件计算文件中出现的人名次数\n",
        "def read_file(file_name):\n",
        "    with open(file_name,'r') as file:\n",
        "        return file.read()"
      ],
      "metadata": {
        "id": "7Mv525Si5LVl"
      },
      "execution_count": 13,
      "outputs": []
    },
    {
      "cell_type": "code",
      "source": [
        "#spacy包的运用之提炼出书中的人物的名字\n",
        "text=read_file('/content/aoman.txt') #使用上面创作好的read_file函数去读取文件放入text中\n",
        "proces_text=nlp(text)  #使用nlp工具对text进行分析"
      ],
      "metadata": {
        "id": "F5OsfjBI3HGe"
      },
      "execution_count": 22,
      "outputs": []
    },
    {
      "cell_type": "code",
      "source": [
        "sentences=[s for s in proces_text.sents] #将nlp（text）处理好的文本再进一步切成句子。放入sentences中去。\n",
        "print(len(sentences)) #测量文本被切分成几个句子。"
      ],
      "metadata": {
        "colab": {
          "base_uri": "https://localhost:8080/"
        },
        "id": "lUPOG1Dk48_H",
        "outputId": "10f816b3-ab5b-41c9-e947-9d1fbf8c7cd9"
      },
      "execution_count": 23,
      "outputs": [
        {
          "output_type": "stream",
          "name": "stdout",
          "text": [
            "193\n"
          ]
        }
      ]
    },
    {
      "cell_type": "code",
      "source": [
        "sentences[:1]"
      ],
      "metadata": {
        "colab": {
          "base_uri": "https://localhost:8080/"
        },
        "id": "08gbw6MN6V9u",
        "outputId": "79c2f0b6-dae2-4fa9-d7dc-215807ac481e"
      },
      "execution_count": 24,
      "outputs": [
        {
          "output_type": "execute_result",
          "data": {
            "text/plain": [
              "[R. BENNET was among the earliest of those who waited on Mr. Bingley.]"
            ]
          },
          "metadata": {},
          "execution_count": 24
        }
      ]
    },
    {
      "cell_type": "code",
      "source": [
        "from collections import Counter  #为了能够计算文本中的内容，需要计数器。所以这一段命令是将计数器导入（Conter）"
      ],
      "metadata": {
        "id": "DR2k4Bqs6c7W"
      },
      "execution_count": 25,
      "outputs": []
    },
    {
      "cell_type": "code",
      "source": [
        "def find_person(doc):   #这一段代码是将文本中出现的人名进行检索（if ent.label_=='PERSON'）。然后，在计算出现人名的次数\n",
        "    c = Counter()\n",
        "    for ent in proces_text.ents:\n",
        "        if ent.label_=='PERSON':\n",
        "            c[ent.lemma_]+=1\n",
        "    return c.most_common(11)   #不断计算最后主要出现次数最多的前11人\n",
        "print(find_person(proces_text))"
      ],
      "metadata": {
        "colab": {
          "base_uri": "https://localhost:8080/"
        },
        "id": "iPm0p9FP8l4A",
        "outputId": "ffcf44a5-f426-444a-b3db-6a4f1fe28ce9"
      },
      "execution_count": 29,
      "outputs": [
        {
          "output_type": "stream",
          "name": "stdout",
          "text": [
            "[('Bingley', 30), ('Bennet', 27), ('Darcy', 15), ('Elizabeth', 9), ('Jane', 9), ('Long', 8), ('Lizzy', 6), ('Mary', 5), ('Hurst', 5), ('Lady Lucas', 3), ('Miss Lucas', 3)]\n"
          ]
        }
      ]
    },
    {
      "cell_type": "code",
      "source": [],
      "metadata": {
        "id": "TsF0d1CU9vmf"
      },
      "execution_count": null,
      "outputs": []
    }
  ]
}